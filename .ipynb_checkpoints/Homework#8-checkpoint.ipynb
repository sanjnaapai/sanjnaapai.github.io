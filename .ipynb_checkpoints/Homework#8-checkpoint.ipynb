{
 "cells": [
  {
   "cell_type": "code",
   "execution_count": 302,
   "id": "29992747",
   "metadata": {},
   "outputs": [],
   "source": [
    "import altair as alt"
   ]
  },
  {
   "cell_type": "markdown",
   "id": "68901c97",
   "metadata": {},
   "source": [
    "```javascript\n",
    "var vis_transform_agency = {\n",
    "  // 1. data\n",
    "\"data\": {\"url\": \"https://raw.githubusercontent.com/UIUC-iSchool-DataViz/is445_data/main/building_inventory.csv\"},\n",
    "  \"mark\": \"bar\",\n",
    "  \"encoding\": {\n",
    "    \"x\": { \"field\": \"Agency Name\", \"type\": \"nominal\"},\n",
    "    \"y\": {\"aggregate\": \"count\"}\n",
    "  }\n",
    "  \n",
    "};\n",
    "\n",
    "var v = vegaEmbed('#vis3',vis_transform_agency);```\n"
   ]
  },
  {
   "cell_type": "code",
   "execution_count": 303,
   "id": "4f057bf1",
   "metadata": {},
   "outputs": [],
   "source": [
    "chart1 = alt.Chart.from_dict({\n",
    "    \"data\": {\"url\": \"https://raw.githubusercontent.com/UIUC-iSchool-DataViz/is445_data/main/building_inventory.csv\"},\n",
    "    \"mark\": \"bar\",\n",
    "    \"encoding\": {\n",
    "        \"x\": {\"field\": \"Agency Name\", \"type\": \"nominal\", \"title\": \"Agency Name\"},\n",
    "        \"y\": {\"aggregate\": \"count\", \"title\": \"Count\"},\n",
    "        \"color\": {\"field\": \"Agency Name\", \"type\": \"nominal\", \"scale\": {\"scheme\": \"purples\"}, \"legend\": None},\n",
    "        \"tooltip\": [\n",
    "            {\"field\": \"Agency Name\", \"type\": \"nominal\", \"title\": \"Agency Name\"},\n",
    "            {\"aggregate\": \"count\", \"title\": \"Count\"}\n",
    "        ],\n",
    "    },\n",
    "    \"title\": \"Number of Buildings by Agency\"\n",
    "}).properties(width=600, height=400)\n",
    "\n"
   ]
  },
  {
   "cell_type": "code",
   "execution_count": 304,
   "id": "6819aa60",
   "metadata": {},
   "outputs": [
    {
     "data": {
      "text/html": [
       "\n",
       "<style>\n",
       "  #altair-viz-ffbd6aa2dc5c433cac3581774e0d2dbd.vega-embed {\n",
       "    width: 100%;\n",
       "    display: flex;\n",
       "  }\n",
       "\n",
       "  #altair-viz-ffbd6aa2dc5c433cac3581774e0d2dbd.vega-embed details,\n",
       "  #altair-viz-ffbd6aa2dc5c433cac3581774e0d2dbd.vega-embed details summary {\n",
       "    position: relative;\n",
       "  }\n",
       "</style>\n",
       "<div id=\"altair-viz-ffbd6aa2dc5c433cac3581774e0d2dbd\"></div>\n",
       "<script type=\"text/javascript\">\n",
       "  var VEGA_DEBUG = (typeof VEGA_DEBUG == \"undefined\") ? {} : VEGA_DEBUG;\n",
       "  (function(spec, embedOpt){\n",
       "    let outputDiv = document.currentScript.previousElementSibling;\n",
       "    if (outputDiv.id !== \"altair-viz-ffbd6aa2dc5c433cac3581774e0d2dbd\") {\n",
       "      outputDiv = document.getElementById(\"altair-viz-ffbd6aa2dc5c433cac3581774e0d2dbd\");\n",
       "    }\n",
       "    const paths = {\n",
       "      \"vega\": \"https://cdn.jsdelivr.net/npm/vega@5?noext\",\n",
       "      \"vega-lib\": \"https://cdn.jsdelivr.net/npm/vega-lib?noext\",\n",
       "      \"vega-lite\": \"https://cdn.jsdelivr.net/npm/vega-lite@5.15.1?noext\",\n",
       "      \"vega-embed\": \"https://cdn.jsdelivr.net/npm/vega-embed@6?noext\",\n",
       "    };\n",
       "\n",
       "    function maybeLoadScript(lib, version) {\n",
       "      var key = `${lib.replace(\"-\", \"\")}_version`;\n",
       "      return (VEGA_DEBUG[key] == version) ?\n",
       "        Promise.resolve(paths[lib]) :\n",
       "        new Promise(function(resolve, reject) {\n",
       "          var s = document.createElement('script');\n",
       "          document.getElementsByTagName(\"head\")[0].appendChild(s);\n",
       "          s.async = true;\n",
       "          s.onload = () => {\n",
       "            VEGA_DEBUG[key] = version;\n",
       "            return resolve(paths[lib]);\n",
       "          };\n",
       "          s.onerror = () => reject(`Error loading script: ${paths[lib]}`);\n",
       "          s.src = paths[lib];\n",
       "        });\n",
       "    }\n",
       "\n",
       "    function showError(err) {\n",
       "      outputDiv.innerHTML = `<div class=\"error\" style=\"color:red;\">${err}</div>`;\n",
       "      throw err;\n",
       "    }\n",
       "\n",
       "    function displayChart(vegaEmbed) {\n",
       "      vegaEmbed(outputDiv, spec, embedOpt)\n",
       "        .catch(err => showError(`Javascript Error: ${err.message}<br>This usually means there's a typo in your chart specification. See the javascript console for the full traceback.`));\n",
       "    }\n",
       "\n",
       "    if(typeof define === \"function\" && define.amd) {\n",
       "      requirejs.config({paths});\n",
       "      require([\"vega-embed\"], displayChart, err => showError(`Error loading script: ${err.message}`));\n",
       "    } else {\n",
       "      maybeLoadScript(\"vega\", \"5\")\n",
       "        .then(() => maybeLoadScript(\"vega-lite\", \"5.15.1\"))\n",
       "        .then(() => maybeLoadScript(\"vega-embed\", \"6\"))\n",
       "        .catch(showError)\n",
       "        .then(() => displayChart(vegaEmbed));\n",
       "    }\n",
       "  })({\"config\": {\"view\": {\"continuousWidth\": 300, \"continuousHeight\": 300}}, \"data\": {\"url\": \"https://raw.githubusercontent.com/UIUC-iSchool-DataViz/is445_data/main/building_inventory.csv\"}, \"mark\": \"bar\", \"encoding\": {\"color\": {\"field\": \"Agency Name\", \"legend\": null, \"scale\": {\"scheme\": \"purples\"}, \"type\": \"nominal\"}, \"tooltip\": [{\"field\": \"Agency Name\", \"title\": \"Agency Name\", \"type\": \"nominal\"}, {\"aggregate\": \"count\", \"title\": \"Count\"}], \"x\": {\"field\": \"Agency Name\", \"title\": \"Agency Name\", \"type\": \"nominal\"}, \"y\": {\"aggregate\": \"count\", \"title\": \"Count\"}}, \"height\": 400, \"title\": \"Number of Buildings by Agency\", \"width\": 600, \"$schema\": \"https://vega.github.io/schema/vega-lite/v5.15.1.json\"}, {\"mode\": \"vega-lite\"});\n",
       "</script>"
      ],
      "text/plain": [
       "alt.Chart(...)"
      ]
     },
     "execution_count": 304,
     "metadata": {},
     "output_type": "execute_result"
    }
   ],
   "source": [
    "chart1"
   ]
  },
  {
   "cell_type": "code",
   "execution_count": 305,
   "id": "b7355479",
   "metadata": {},
   "outputs": [],
   "source": [
    "myJekyllDir = '/Users/sanjana_pai/Desktop/sanjnaapai.github.io/assets/json/'"
   ]
  },
  {
   "cell_type": "code",
   "execution_count": 306,
   "id": "1ed8303a",
   "metadata": {},
   "outputs": [],
   "source": [
    "chart1.properties(width='container').save(myJekyllDir+'chart1.json')"
   ]
  },
  {
   "cell_type": "markdown",
   "id": "ba3e3165",
   "metadata": {},
   "source": [
    "``` javascript\n",
    "var myfirstplot = {\n",
    "  // 1. data\n",
    "  \"data\":{\"url\":\"https://raw.githubusercontent.com/UIUC-iSchool-DataViz/is445_data/main/building_inventory.csv\"},\n",
    "  // 2. mark\n",
    "  \"mark\":\"point\",\n",
    "  // 3. scales/axis ==> encoding\n",
    "  \"encoding\":{\n",
    "    \"x\":{\"field\":\"Year Acquired\",\"type\":\"temporal\"},\n",
    "    \"y\":{\"field\":\"Square Footage\",\"type\":\"quantitative\"}\n",
    "  } // end of encoding\n",
    "  \n",
    "};\n",
    "\n",
    "var v = vegaEmbed('#vis11',myfirstplot);\n",
    "```"
   ]
  },
  {
   "cell_type": "code",
   "execution_count": 307,
   "id": "4e15805d",
   "metadata": {},
   "outputs": [],
   "source": [
    "chart2 = alt.Chart.from_dict({\n",
    "    \"data\": {\"url\":\"https://raw.githubusercontent.com/UIUC-iSchool-DataViz/is445_data/main/building_inventory.csv\"\n",
    "},\n",
    "    # 2. mark\n",
    "    \"mark\": {\"type\": \"circle\", \"filled\": True, \"size\": 100},\n",
    "    # 3. scales/axis ==> encoding\n",
    "    \"encoding\": {\n",
    "        \"x\": {\"field\": \"Year Acquired\", \"type\": \"temporal\", \"title\": \"Year Acquired\"},\n",
    "        \"y\": {\"field\": \"Square Footage\", \"type\": \"quantitative\", \"title\": \"Square Footage\"},\n",
    "        \"color\": {\"field\": \"Agency Name\", \"type\": \"nominal\", \"scale\": {\"scheme\": \"category10\"}},\n",
    "        \"tooltip\": [\n",
    "            {\"field\": \"Building Name\", \"type\": \"nominal\", \"title\": \"Building Name\"},\n",
    "            {\"field\": \"Year Constructed\", \"type\": \"temporal\", \"title\": \"Year Constructed\"},\n",
    "            {\"field\": \"Congress Dist\", \"type\": \"ordinal\", \"title\": \"Congressional District\"},\n",
    "        ],\n",
    "    },\n",
    "})\n",
    "chart2 = chart2.properties(width=300, height=400)\n"
   ]
  },
  {
   "cell_type": "code",
   "execution_count": 308,
   "id": "e499c938",
   "metadata": {},
   "outputs": [
    {
     "data": {
      "text/html": [
       "\n",
       "<style>\n",
       "  #altair-viz-8b4556c85e0d44fc994aa9bfe09f767d.vega-embed {\n",
       "    width: 100%;\n",
       "    display: flex;\n",
       "  }\n",
       "\n",
       "  #altair-viz-8b4556c85e0d44fc994aa9bfe09f767d.vega-embed details,\n",
       "  #altair-viz-8b4556c85e0d44fc994aa9bfe09f767d.vega-embed details summary {\n",
       "    position: relative;\n",
       "  }\n",
       "</style>\n",
       "<div id=\"altair-viz-8b4556c85e0d44fc994aa9bfe09f767d\"></div>\n",
       "<script type=\"text/javascript\">\n",
       "  var VEGA_DEBUG = (typeof VEGA_DEBUG == \"undefined\") ? {} : VEGA_DEBUG;\n",
       "  (function(spec, embedOpt){\n",
       "    let outputDiv = document.currentScript.previousElementSibling;\n",
       "    if (outputDiv.id !== \"altair-viz-8b4556c85e0d44fc994aa9bfe09f767d\") {\n",
       "      outputDiv = document.getElementById(\"altair-viz-8b4556c85e0d44fc994aa9bfe09f767d\");\n",
       "    }\n",
       "    const paths = {\n",
       "      \"vega\": \"https://cdn.jsdelivr.net/npm/vega@5?noext\",\n",
       "      \"vega-lib\": \"https://cdn.jsdelivr.net/npm/vega-lib?noext\",\n",
       "      \"vega-lite\": \"https://cdn.jsdelivr.net/npm/vega-lite@5.15.1?noext\",\n",
       "      \"vega-embed\": \"https://cdn.jsdelivr.net/npm/vega-embed@6?noext\",\n",
       "    };\n",
       "\n",
       "    function maybeLoadScript(lib, version) {\n",
       "      var key = `${lib.replace(\"-\", \"\")}_version`;\n",
       "      return (VEGA_DEBUG[key] == version) ?\n",
       "        Promise.resolve(paths[lib]) :\n",
       "        new Promise(function(resolve, reject) {\n",
       "          var s = document.createElement('script');\n",
       "          document.getElementsByTagName(\"head\")[0].appendChild(s);\n",
       "          s.async = true;\n",
       "          s.onload = () => {\n",
       "            VEGA_DEBUG[key] = version;\n",
       "            return resolve(paths[lib]);\n",
       "          };\n",
       "          s.onerror = () => reject(`Error loading script: ${paths[lib]}`);\n",
       "          s.src = paths[lib];\n",
       "        });\n",
       "    }\n",
       "\n",
       "    function showError(err) {\n",
       "      outputDiv.innerHTML = `<div class=\"error\" style=\"color:red;\">${err}</div>`;\n",
       "      throw err;\n",
       "    }\n",
       "\n",
       "    function displayChart(vegaEmbed) {\n",
       "      vegaEmbed(outputDiv, spec, embedOpt)\n",
       "        .catch(err => showError(`Javascript Error: ${err.message}<br>This usually means there's a typo in your chart specification. See the javascript console for the full traceback.`));\n",
       "    }\n",
       "\n",
       "    if(typeof define === \"function\" && define.amd) {\n",
       "      requirejs.config({paths});\n",
       "      require([\"vega-embed\"], displayChart, err => showError(`Error loading script: ${err.message}`));\n",
       "    } else {\n",
       "      maybeLoadScript(\"vega\", \"5\")\n",
       "        .then(() => maybeLoadScript(\"vega-lite\", \"5.15.1\"))\n",
       "        .then(() => maybeLoadScript(\"vega-embed\", \"6\"))\n",
       "        .catch(showError)\n",
       "        .then(() => displayChart(vegaEmbed));\n",
       "    }\n",
       "  })({\"config\": {\"view\": {\"continuousWidth\": 300, \"continuousHeight\": 300}}, \"data\": {\"url\": \"https://raw.githubusercontent.com/UIUC-iSchool-DataViz/is445_data/main/building_inventory.csv\"}, \"mark\": {\"type\": \"circle\", \"filled\": true, \"size\": 100}, \"encoding\": {\"color\": {\"field\": \"Agency Name\", \"scale\": {\"scheme\": \"rainbow\"}, \"type\": \"nominal\"}, \"tooltip\": [{\"field\": \"Building Name\", \"title\": \"Building Name\", \"type\": \"nominal\"}, {\"field\": \"Year Constructed\", \"title\": \"Year Constructed\", \"type\": \"temporal\"}, {\"field\": \"Congress Dist\", \"title\": \"Congressional District\", \"type\": \"ordinal\"}], \"x\": {\"field\": \"Year Acquired\", \"title\": \"Year Acquired\", \"type\": \"temporal\"}, \"y\": {\"field\": \"Square Footage\", \"title\": \"Square Footage\", \"type\": \"quantitative\"}}, \"height\": 400, \"width\": 300, \"$schema\": \"https://vega.github.io/schema/vega-lite/v5.15.1.json\"}, {\"mode\": \"vega-lite\"});\n",
       "</script>"
      ],
      "text/plain": [
       "alt.Chart(...)"
      ]
     },
     "execution_count": 308,
     "metadata": {},
     "output_type": "execute_result"
    }
   ],
   "source": [
    "chart2"
   ]
  },
  {
   "cell_type": "markdown",
   "id": "055a0ee7",
   "metadata": {},
   "source": [
    "```java\n",
    "var vis_transform = {\n",
    "  // 1. data\n",
    "  \"data\": {\"url\": \"https://raw.githubusercontent.com/UIUC-iSchool-DataViz/is445_data/main/building_inventory.csv\"},\n",
    "  \"mark\": \"bar\",\n",
    "  \"encoding\": {\n",
    "    \"x\": {\n",
    "      \"field\": \"Total Floors\",\n",
    "      \"type\": \"quantitative\"\n",
    "    },\n",
    "    \"y\": {\"aggregate\": \"count\"}\n",
    "  }\n",
    "  \n",
    "};\n",
    "\n",
    "var v = vegaEmbed('#vis2',vis_transform);\n",
    "```"
   ]
  },
  {
   "cell_type": "code",
   "execution_count": 332,
   "id": "5b86be57",
   "metadata": {},
   "outputs": [],
   "source": [
    "chart3 = alt.Chart.from_dict({\n",
    "    \"data\": {\"url\": \"https://raw.githubusercontent.com/UIUC-iSchool-DataViz/is445_data/main/building_inventory.csv\"},\n",
    "    \"mark\": \"bar\",\n",
    "    \"encoding\": {\n",
    "        \"x\": {\"field\": \"Total Floors\", \"type\": \"quantitative\"},\n",
    "        \"y\": {\"aggregate\": \"count\"},\n",
    "        \"color\": {\"field\": \"Agency Name\", \"type\": \"nominal\", \"scale\": {\"scheme\": \"category10\"}},\n",
    "        \"tooltip\": [\n",
    "            {\"field\": \"Total Floors\", \"type\": \"quantitative\", \"title\": \"Total Floors\"},\n",
    "            {\"field\": \"Agency Name\", \"type\": \"nominal\", \"title\": \"Agency Name\"},\n",
    "            {\"aggregate\": \"count\", \"title\": \"Count\"}\n",
    "        ],\n",
    "    },\n",
    "    \"title\": \"Number of Buildings by Total Floors and Agency\"\n",
    "}).properties(width=300,height=300)\n"
   ]
  },
  {
   "cell_type": "code",
   "execution_count": 333,
   "id": "a6f4c904",
   "metadata": {},
   "outputs": [
    {
     "data": {
      "text/html": [
       "\n",
       "<style>\n",
       "  #altair-viz-7f345fcc94ba4d41a7fd2216c4676705.vega-embed {\n",
       "    width: 100%;\n",
       "    display: flex;\n",
       "  }\n",
       "\n",
       "  #altair-viz-7f345fcc94ba4d41a7fd2216c4676705.vega-embed details,\n",
       "  #altair-viz-7f345fcc94ba4d41a7fd2216c4676705.vega-embed details summary {\n",
       "    position: relative;\n",
       "  }\n",
       "</style>\n",
       "<div id=\"altair-viz-7f345fcc94ba4d41a7fd2216c4676705\"></div>\n",
       "<script type=\"text/javascript\">\n",
       "  var VEGA_DEBUG = (typeof VEGA_DEBUG == \"undefined\") ? {} : VEGA_DEBUG;\n",
       "  (function(spec, embedOpt){\n",
       "    let outputDiv = document.currentScript.previousElementSibling;\n",
       "    if (outputDiv.id !== \"altair-viz-7f345fcc94ba4d41a7fd2216c4676705\") {\n",
       "      outputDiv = document.getElementById(\"altair-viz-7f345fcc94ba4d41a7fd2216c4676705\");\n",
       "    }\n",
       "    const paths = {\n",
       "      \"vega\": \"https://cdn.jsdelivr.net/npm/vega@5?noext\",\n",
       "      \"vega-lib\": \"https://cdn.jsdelivr.net/npm/vega-lib?noext\",\n",
       "      \"vega-lite\": \"https://cdn.jsdelivr.net/npm/vega-lite@5.15.1?noext\",\n",
       "      \"vega-embed\": \"https://cdn.jsdelivr.net/npm/vega-embed@6?noext\",\n",
       "    };\n",
       "\n",
       "    function maybeLoadScript(lib, version) {\n",
       "      var key = `${lib.replace(\"-\", \"\")}_version`;\n",
       "      return (VEGA_DEBUG[key] == version) ?\n",
       "        Promise.resolve(paths[lib]) :\n",
       "        new Promise(function(resolve, reject) {\n",
       "          var s = document.createElement('script');\n",
       "          document.getElementsByTagName(\"head\")[0].appendChild(s);\n",
       "          s.async = true;\n",
       "          s.onload = () => {\n",
       "            VEGA_DEBUG[key] = version;\n",
       "            return resolve(paths[lib]);\n",
       "          };\n",
       "          s.onerror = () => reject(`Error loading script: ${paths[lib]}`);\n",
       "          s.src = paths[lib];\n",
       "        });\n",
       "    }\n",
       "\n",
       "    function showError(err) {\n",
       "      outputDiv.innerHTML = `<div class=\"error\" style=\"color:red;\">${err}</div>`;\n",
       "      throw err;\n",
       "    }\n",
       "\n",
       "    function displayChart(vegaEmbed) {\n",
       "      vegaEmbed(outputDiv, spec, embedOpt)\n",
       "        .catch(err => showError(`Javascript Error: ${err.message}<br>This usually means there's a typo in your chart specification. See the javascript console for the full traceback.`));\n",
       "    }\n",
       "\n",
       "    if(typeof define === \"function\" && define.amd) {\n",
       "      requirejs.config({paths});\n",
       "      require([\"vega-embed\"], displayChart, err => showError(`Error loading script: ${err.message}`));\n",
       "    } else {\n",
       "      maybeLoadScript(\"vega\", \"5\")\n",
       "        .then(() => maybeLoadScript(\"vega-lite\", \"5.15.1\"))\n",
       "        .then(() => maybeLoadScript(\"vega-embed\", \"6\"))\n",
       "        .catch(showError)\n",
       "        .then(() => displayChart(vegaEmbed));\n",
       "    }\n",
       "  })({\"config\": {\"view\": {\"continuousWidth\": 300, \"continuousHeight\": 300}}, \"data\": {\"url\": \"https://raw.githubusercontent.com/UIUC-iSchool-DataViz/is445_data/main/building_inventory.csv\"}, \"mark\": \"bar\", \"encoding\": {\"color\": {\"field\": \"Agency Name\", \"scale\": {\"scheme\": \"category10\"}, \"type\": \"nominal\"}, \"tooltip\": [{\"field\": \"Total Floors\", \"title\": \"Total Floors\", \"type\": \"quantitative\"}, {\"field\": \"Agency Name\", \"title\": \"Agency Name\", \"type\": \"nominal\"}, {\"aggregate\": \"count\", \"title\": \"Count\"}], \"x\": {\"field\": \"Total Floors\", \"type\": \"quantitative\"}, \"y\": {\"aggregate\": \"count\"}}, \"height\": 300, \"title\": \"Number of Buildings by Total Floors and Agency\", \"width\": 300, \"$schema\": \"https://vega.github.io/schema/vega-lite/v5.15.1.json\"}, {\"mode\": \"vega-lite\"});\n",
       "</script>"
      ],
      "text/plain": [
       "alt.Chart(...)"
      ]
     },
     "execution_count": 333,
     "metadata": {},
     "output_type": "execute_result"
    }
   ],
   "source": [
    "chart3"
   ]
  },
  {
   "cell_type": "code",
   "execution_count": 334,
   "id": "7e022525",
   "metadata": {},
   "outputs": [],
   "source": [
    "chart = alt.HConcatChart(hconcat=[chart2,chart3])"
   ]
  },
  {
   "cell_type": "code",
   "execution_count": 335,
   "id": "8fedfbdc",
   "metadata": {},
   "outputs": [],
   "source": [
    "chart = alt.hconcat(chart2, chart3)"
   ]
  },
  {
   "cell_type": "code",
   "execution_count": 336,
   "id": "b60f4545",
   "metadata": {},
   "outputs": [
    {
     "data": {
      "text/html": [
       "\n",
       "<style>\n",
       "  #altair-viz-153b5d40c5994bcbbd355ff282ca6f7f.vega-embed {\n",
       "    width: 100%;\n",
       "    display: flex;\n",
       "  }\n",
       "\n",
       "  #altair-viz-153b5d40c5994bcbbd355ff282ca6f7f.vega-embed details,\n",
       "  #altair-viz-153b5d40c5994bcbbd355ff282ca6f7f.vega-embed details summary {\n",
       "    position: relative;\n",
       "  }\n",
       "</style>\n",
       "<div id=\"altair-viz-153b5d40c5994bcbbd355ff282ca6f7f\"></div>\n",
       "<script type=\"text/javascript\">\n",
       "  var VEGA_DEBUG = (typeof VEGA_DEBUG == \"undefined\") ? {} : VEGA_DEBUG;\n",
       "  (function(spec, embedOpt){\n",
       "    let outputDiv = document.currentScript.previousElementSibling;\n",
       "    if (outputDiv.id !== \"altair-viz-153b5d40c5994bcbbd355ff282ca6f7f\") {\n",
       "      outputDiv = document.getElementById(\"altair-viz-153b5d40c5994bcbbd355ff282ca6f7f\");\n",
       "    }\n",
       "    const paths = {\n",
       "      \"vega\": \"https://cdn.jsdelivr.net/npm/vega@5?noext\",\n",
       "      \"vega-lib\": \"https://cdn.jsdelivr.net/npm/vega-lib?noext\",\n",
       "      \"vega-lite\": \"https://cdn.jsdelivr.net/npm/vega-lite@5.15.1?noext\",\n",
       "      \"vega-embed\": \"https://cdn.jsdelivr.net/npm/vega-embed@6?noext\",\n",
       "    };\n",
       "\n",
       "    function maybeLoadScript(lib, version) {\n",
       "      var key = `${lib.replace(\"-\", \"\")}_version`;\n",
       "      return (VEGA_DEBUG[key] == version) ?\n",
       "        Promise.resolve(paths[lib]) :\n",
       "        new Promise(function(resolve, reject) {\n",
       "          var s = document.createElement('script');\n",
       "          document.getElementsByTagName(\"head\")[0].appendChild(s);\n",
       "          s.async = true;\n",
       "          s.onload = () => {\n",
       "            VEGA_DEBUG[key] = version;\n",
       "            return resolve(paths[lib]);\n",
       "          };\n",
       "          s.onerror = () => reject(`Error loading script: ${paths[lib]}`);\n",
       "          s.src = paths[lib];\n",
       "        });\n",
       "    }\n",
       "\n",
       "    function showError(err) {\n",
       "      outputDiv.innerHTML = `<div class=\"error\" style=\"color:red;\">${err}</div>`;\n",
       "      throw err;\n",
       "    }\n",
       "\n",
       "    function displayChart(vegaEmbed) {\n",
       "      vegaEmbed(outputDiv, spec, embedOpt)\n",
       "        .catch(err => showError(`Javascript Error: ${err.message}<br>This usually means there's a typo in your chart specification. See the javascript console for the full traceback.`));\n",
       "    }\n",
       "\n",
       "    if(typeof define === \"function\" && define.amd) {\n",
       "      requirejs.config({paths});\n",
       "      require([\"vega-embed\"], displayChart, err => showError(`Error loading script: ${err.message}`));\n",
       "    } else {\n",
       "      maybeLoadScript(\"vega\", \"5\")\n",
       "        .then(() => maybeLoadScript(\"vega-lite\", \"5.15.1\"))\n",
       "        .then(() => maybeLoadScript(\"vega-embed\", \"6\"))\n",
       "        .catch(showError)\n",
       "        .then(() => displayChart(vegaEmbed));\n",
       "    }\n",
       "  })({\"config\": {\"view\": {\"continuousWidth\": 300, \"continuousHeight\": 300}}, \"hconcat\": [{\"data\": {\"url\": \"https://raw.githubusercontent.com/UIUC-iSchool-DataViz/is445_data/main/building_inventory.csv\"}, \"mark\": {\"type\": \"circle\", \"filled\": true, \"size\": 100}, \"encoding\": {\"color\": {\"field\": \"Agency Name\", \"scale\": {\"scheme\": \"category10\"}, \"type\": \"nominal\"}, \"tooltip\": [{\"field\": \"Building Name\", \"title\": \"Building Name\", \"type\": \"nominal\"}, {\"field\": \"Year Constructed\", \"title\": \"Year Constructed\", \"type\": \"temporal\"}, {\"field\": \"Congress Dist\", \"title\": \"Congressional District\", \"type\": \"ordinal\"}], \"x\": {\"field\": \"Year Acquired\", \"title\": \"Year Acquired\", \"type\": \"temporal\"}, \"y\": {\"field\": \"Square Footage\", \"title\": \"Square Footage\", \"type\": \"quantitative\"}}, \"height\": 400, \"name\": \"view_22\", \"width\": 300}, {\"data\": {\"url\": \"https://raw.githubusercontent.com/UIUC-iSchool-DataViz/is445_data/main/building_inventory.csv\"}, \"mark\": \"bar\", \"encoding\": {\"color\": {\"field\": \"Agency Name\", \"scale\": {\"scheme\": \"category10\"}, \"type\": \"nominal\"}, \"tooltip\": [{\"field\": \"Total Floors\", \"title\": \"Total Floors\", \"type\": \"quantitative\"}, {\"field\": \"Agency Name\", \"title\": \"Agency Name\", \"type\": \"nominal\"}, {\"aggregate\": \"count\", \"title\": \"Count\"}], \"x\": {\"field\": \"Total Floors\", \"type\": \"quantitative\"}, \"y\": {\"aggregate\": \"count\"}}, \"height\": 300, \"title\": \"Number of Buildings by Total Floors and Agency\", \"width\": 300}], \"params\": [{\"name\": \"param_14\", \"select\": {\"type\": \"interval\", \"encodings\": [\"x\", \"y\"]}, \"views\": [\"view_22\"]}], \"$schema\": \"https://vega.github.io/schema/vega-lite/v5.15.1.json\"}, {\"mode\": \"vega-lite\"});\n",
       "</script>"
      ],
      "text/plain": [
       "alt.HConcatChart(...)"
      ]
     },
     "execution_count": 336,
     "metadata": {},
     "output_type": "execute_result"
    }
   ],
   "source": [
    "chart"
   ]
  },
  {
   "cell_type": "code",
   "execution_count": 337,
   "id": "48b08369",
   "metadata": {},
   "outputs": [],
   "source": [
    "chart.save(myJekyllDir+'first_dashboard.json')"
   ]
  },
  {
   "cell_type": "markdown",
   "id": "1924e099",
   "metadata": {},
   "source": [
    "## Interacivity "
   ]
  },
  {
   "cell_type": "code",
   "execution_count": 338,
   "id": "21e47e0c",
   "metadata": {},
   "outputs": [],
   "source": [
    "brush = alt.selection_interval(encodings=['x','y'])"
   ]
  },
  {
   "cell_type": "code",
   "execution_count": 339,
   "id": "69a2f845",
   "metadata": {},
   "outputs": [],
   "source": [
    "chart2 = alt.Chart.from_dict({\n",
    "    \"data\": {\"url\":\"https://raw.githubusercontent.com/UIUC-iSchool-DataViz/is445_data/main/building_inventory.csv\"\n",
    "},\n",
    "    # 2. mark\n",
    "    \"mark\": {\"type\": \"circle\", \"filled\": True, \"size\": 100},\n",
    "    # 3. scales/axis ==> encoding\n",
    "    \"encoding\": {\n",
    "        \"x\": {\"field\": \"Year Acquired\", \"type\": \"temporal\", \"title\": \"Year Acquired\"},\n",
    "        \"y\": {\"field\": \"Square Footage\", \"type\": \"quantitative\", \"title\": \"Square Footage\"},\n",
    "        \"color\": {\"field\": \"Agency Name\", \"type\": \"nominal\", \"scale\": {\"scheme\": \"category10\"}},\n",
    "        \"tooltip\": [\n",
    "            {\"field\": \"Building Name\", \"type\": \"nominal\", \"title\": \"Building Name\"},\n",
    "            {\"field\": \"Year Constructed\", \"type\": \"temporal\", \"title\": \"Year Constructed\"},\n",
    "            {\"field\": \"Congress Dist\", \"type\": \"ordinal\", \"title\": \"Congressional District\"},\n",
    "        ],\n",
    "    },\n",
    "})\n",
    "chart2 = chart2.properties(width=300, height=400).add_selection(brush)"
   ]
  },
  {
   "cell_type": "code",
   "execution_count": 340,
   "id": "c10c5687",
   "metadata": {},
   "outputs": [],
   "source": [
    "# chart = alt.HConcatChart(hconcat=[chart2,chart3])\n",
    "# chart"
   ]
  },
  {
   "cell_type": "code",
   "execution_count": 341,
   "id": "43cbe918",
   "metadata": {},
   "outputs": [],
   "source": [
    "chart3 = alt.Chart.from_dict({\n",
    "    \"data\": {\"url\": \"https://raw.githubusercontent.com/UIUC-iSchool-DataViz/is445_data/main/building_inventory.csv\"},\n",
    "    \"mark\": \"bar\",\n",
    "    \"encoding\": {\n",
    "        \"x\": {\"field\": \"Total Floors\", \"type\": \"quantitative\"},\n",
    "        \"y\": {\"aggregate\": \"count\"},\n",
    "        \"color\": {\"field\": \"Agency Name\", \"type\": \"nominal\", \"scale\": {\"scheme\": \"category10\"}},\n",
    "        \"tooltip\": [\n",
    "            {\"field\": \"Total Floors\", \"type\": \"quantitative\", \"title\": \"Total Floors\"},\n",
    "            {\"field\": \"Agency Name\", \"type\": \"nominal\", \"title\": \"Agency Name\"},\n",
    "            {\"aggregate\": \"count\", \"title\": \"Count\"}\n",
    "        ],\n",
    "    },\n",
    "    \"title\": \"Number of Buildings by Total Floors and Agency\"\n",
    "})\n",
    "chart3= chart3.properties(width=300,height=300).transform_filter(brush)"
   ]
  },
  {
   "cell_type": "code",
   "execution_count": 342,
   "id": "0e34858a",
   "metadata": {},
   "outputs": [],
   "source": [
    "chart = chart2 | chart3"
   ]
  },
  {
   "cell_type": "code",
   "execution_count": 343,
   "id": "a16a6987",
   "metadata": {},
   "outputs": [
    {
     "data": {
      "text/html": [
       "\n",
       "<style>\n",
       "  #altair-viz-0afe006cf1b64458a7212c0d3556a672.vega-embed {\n",
       "    width: 100%;\n",
       "    display: flex;\n",
       "  }\n",
       "\n",
       "  #altair-viz-0afe006cf1b64458a7212c0d3556a672.vega-embed details,\n",
       "  #altair-viz-0afe006cf1b64458a7212c0d3556a672.vega-embed details summary {\n",
       "    position: relative;\n",
       "  }\n",
       "</style>\n",
       "<div id=\"altair-viz-0afe006cf1b64458a7212c0d3556a672\"></div>\n",
       "<script type=\"text/javascript\">\n",
       "  var VEGA_DEBUG = (typeof VEGA_DEBUG == \"undefined\") ? {} : VEGA_DEBUG;\n",
       "  (function(spec, embedOpt){\n",
       "    let outputDiv = document.currentScript.previousElementSibling;\n",
       "    if (outputDiv.id !== \"altair-viz-0afe006cf1b64458a7212c0d3556a672\") {\n",
       "      outputDiv = document.getElementById(\"altair-viz-0afe006cf1b64458a7212c0d3556a672\");\n",
       "    }\n",
       "    const paths = {\n",
       "      \"vega\": \"https://cdn.jsdelivr.net/npm/vega@5?noext\",\n",
       "      \"vega-lib\": \"https://cdn.jsdelivr.net/npm/vega-lib?noext\",\n",
       "      \"vega-lite\": \"https://cdn.jsdelivr.net/npm/vega-lite@5.15.1?noext\",\n",
       "      \"vega-embed\": \"https://cdn.jsdelivr.net/npm/vega-embed@6?noext\",\n",
       "    };\n",
       "\n",
       "    function maybeLoadScript(lib, version) {\n",
       "      var key = `${lib.replace(\"-\", \"\")}_version`;\n",
       "      return (VEGA_DEBUG[key] == version) ?\n",
       "        Promise.resolve(paths[lib]) :\n",
       "        new Promise(function(resolve, reject) {\n",
       "          var s = document.createElement('script');\n",
       "          document.getElementsByTagName(\"head\")[0].appendChild(s);\n",
       "          s.async = true;\n",
       "          s.onload = () => {\n",
       "            VEGA_DEBUG[key] = version;\n",
       "            return resolve(paths[lib]);\n",
       "          };\n",
       "          s.onerror = () => reject(`Error loading script: ${paths[lib]}`);\n",
       "          s.src = paths[lib];\n",
       "        });\n",
       "    }\n",
       "\n",
       "    function showError(err) {\n",
       "      outputDiv.innerHTML = `<div class=\"error\" style=\"color:red;\">${err}</div>`;\n",
       "      throw err;\n",
       "    }\n",
       "\n",
       "    function displayChart(vegaEmbed) {\n",
       "      vegaEmbed(outputDiv, spec, embedOpt)\n",
       "        .catch(err => showError(`Javascript Error: ${err.message}<br>This usually means there's a typo in your chart specification. See the javascript console for the full traceback.`));\n",
       "    }\n",
       "\n",
       "    if(typeof define === \"function\" && define.amd) {\n",
       "      requirejs.config({paths});\n",
       "      require([\"vega-embed\"], displayChart, err => showError(`Error loading script: ${err.message}`));\n",
       "    } else {\n",
       "      maybeLoadScript(\"vega\", \"5\")\n",
       "        .then(() => maybeLoadScript(\"vega-lite\", \"5.15.1\"))\n",
       "        .then(() => maybeLoadScript(\"vega-embed\", \"6\"))\n",
       "        .catch(showError)\n",
       "        .then(() => displayChart(vegaEmbed));\n",
       "    }\n",
       "  })({\"config\": {\"view\": {\"continuousWidth\": 300, \"continuousHeight\": 300}}, \"hconcat\": [{\"data\": {\"url\": \"https://raw.githubusercontent.com/UIUC-iSchool-DataViz/is445_data/main/building_inventory.csv\"}, \"mark\": {\"type\": \"circle\", \"filled\": true, \"size\": 100}, \"encoding\": {\"color\": {\"field\": \"Agency Name\", \"scale\": {\"scheme\": \"category10\"}, \"type\": \"nominal\"}, \"tooltip\": [{\"field\": \"Building Name\", \"title\": \"Building Name\", \"type\": \"nominal\"}, {\"field\": \"Year Constructed\", \"title\": \"Year Constructed\", \"type\": \"temporal\"}, {\"field\": \"Congress Dist\", \"title\": \"Congressional District\", \"type\": \"ordinal\"}], \"x\": {\"field\": \"Year Acquired\", \"title\": \"Year Acquired\", \"type\": \"temporal\"}, \"y\": {\"field\": \"Square Footage\", \"title\": \"Square Footage\", \"type\": \"quantitative\"}}, \"height\": 400, \"name\": \"view_23\", \"width\": 300}, {\"data\": {\"url\": \"https://raw.githubusercontent.com/UIUC-iSchool-DataViz/is445_data/main/building_inventory.csv\"}, \"mark\": \"bar\", \"encoding\": {\"color\": {\"field\": \"Agency Name\", \"scale\": {\"scheme\": \"category10\"}, \"type\": \"nominal\"}, \"tooltip\": [{\"field\": \"Total Floors\", \"title\": \"Total Floors\", \"type\": \"quantitative\"}, {\"field\": \"Agency Name\", \"title\": \"Agency Name\", \"type\": \"nominal\"}, {\"aggregate\": \"count\", \"title\": \"Count\"}], \"x\": {\"field\": \"Total Floors\", \"type\": \"quantitative\"}, \"y\": {\"aggregate\": \"count\"}}, \"height\": 300, \"title\": \"Number of Buildings by Total Floors and Agency\", \"transform\": [{\"filter\": {\"param\": \"param_16\"}}], \"width\": 300}], \"params\": [{\"name\": \"param_16\", \"select\": {\"type\": \"interval\", \"encodings\": [\"x\", \"y\"]}, \"views\": [\"view_23\"]}], \"$schema\": \"https://vega.github.io/schema/vega-lite/v5.15.1.json\"}, {\"mode\": \"vega-lite\"});\n",
       "</script>"
      ],
      "text/plain": [
       "alt.HConcatChart(...)"
      ]
     },
     "execution_count": 343,
     "metadata": {},
     "output_type": "execute_result"
    }
   ],
   "source": [
    "chart"
   ]
  },
  {
   "cell_type": "code",
   "execution_count": 344,
   "id": "13eb4aec",
   "metadata": {},
   "outputs": [],
   "source": [
    "chart.save(myJekyllDir+'interactive_plot.json')"
   ]
  },
  {
   "cell_type": "markdown",
   "id": "9dc2b8f5",
   "metadata": {},
   "source": [
    "## Use Altair to make the chart"
   ]
  },
  {
   "cell_type": "code",
   "execution_count": 345,
   "id": "49137b75",
   "metadata": {},
   "outputs": [],
   "source": [
    "data_url=\"https://raw.githubusercontent.com/UIUC-iSchool-DataViz/is445_data/main/building_inventory.csv\""
   ]
  },
  {
   "cell_type": "code",
   "execution_count": 346,
   "id": "9bc2c7a1",
   "metadata": {},
   "outputs": [],
   "source": [
    "altair_chart1 = alt.Chart(data_url).mark_point().encode(\n",
    "    x='Year Acquired:T',\n",
    "    y='Square Footage:Q',\n",
    "    color = alt.Color('Agency Name:N',scale=alt.Scale(scheme='viridis')))"
   ]
  },
  {
   "cell_type": "code",
   "execution_count": 347,
   "id": "6a2a846f",
   "metadata": {},
   "outputs": [
    {
     "data": {
      "text/html": [
       "\n",
       "<style>\n",
       "  #altair-viz-9e23c8d4d1db4b87b063e4d0aa039b08.vega-embed {\n",
       "    width: 100%;\n",
       "    display: flex;\n",
       "  }\n",
       "\n",
       "  #altair-viz-9e23c8d4d1db4b87b063e4d0aa039b08.vega-embed details,\n",
       "  #altair-viz-9e23c8d4d1db4b87b063e4d0aa039b08.vega-embed details summary {\n",
       "    position: relative;\n",
       "  }\n",
       "</style>\n",
       "<div id=\"altair-viz-9e23c8d4d1db4b87b063e4d0aa039b08\"></div>\n",
       "<script type=\"text/javascript\">\n",
       "  var VEGA_DEBUG = (typeof VEGA_DEBUG == \"undefined\") ? {} : VEGA_DEBUG;\n",
       "  (function(spec, embedOpt){\n",
       "    let outputDiv = document.currentScript.previousElementSibling;\n",
       "    if (outputDiv.id !== \"altair-viz-9e23c8d4d1db4b87b063e4d0aa039b08\") {\n",
       "      outputDiv = document.getElementById(\"altair-viz-9e23c8d4d1db4b87b063e4d0aa039b08\");\n",
       "    }\n",
       "    const paths = {\n",
       "      \"vega\": \"https://cdn.jsdelivr.net/npm/vega@5?noext\",\n",
       "      \"vega-lib\": \"https://cdn.jsdelivr.net/npm/vega-lib?noext\",\n",
       "      \"vega-lite\": \"https://cdn.jsdelivr.net/npm/vega-lite@5.15.1?noext\",\n",
       "      \"vega-embed\": \"https://cdn.jsdelivr.net/npm/vega-embed@6?noext\",\n",
       "    };\n",
       "\n",
       "    function maybeLoadScript(lib, version) {\n",
       "      var key = `${lib.replace(\"-\", \"\")}_version`;\n",
       "      return (VEGA_DEBUG[key] == version) ?\n",
       "        Promise.resolve(paths[lib]) :\n",
       "        new Promise(function(resolve, reject) {\n",
       "          var s = document.createElement('script');\n",
       "          document.getElementsByTagName(\"head\")[0].appendChild(s);\n",
       "          s.async = true;\n",
       "          s.onload = () => {\n",
       "            VEGA_DEBUG[key] = version;\n",
       "            return resolve(paths[lib]);\n",
       "          };\n",
       "          s.onerror = () => reject(`Error loading script: ${paths[lib]}`);\n",
       "          s.src = paths[lib];\n",
       "        });\n",
       "    }\n",
       "\n",
       "    function showError(err) {\n",
       "      outputDiv.innerHTML = `<div class=\"error\" style=\"color:red;\">${err}</div>`;\n",
       "      throw err;\n",
       "    }\n",
       "\n",
       "    function displayChart(vegaEmbed) {\n",
       "      vegaEmbed(outputDiv, spec, embedOpt)\n",
       "        .catch(err => showError(`Javascript Error: ${err.message}<br>This usually means there's a typo in your chart specification. See the javascript console for the full traceback.`));\n",
       "    }\n",
       "\n",
       "    if(typeof define === \"function\" && define.amd) {\n",
       "      requirejs.config({paths});\n",
       "      require([\"vega-embed\"], displayChart, err => showError(`Error loading script: ${err.message}`));\n",
       "    } else {\n",
       "      maybeLoadScript(\"vega\", \"5\")\n",
       "        .then(() => maybeLoadScript(\"vega-lite\", \"5.15.1\"))\n",
       "        .then(() => maybeLoadScript(\"vega-embed\", \"6\"))\n",
       "        .catch(showError)\n",
       "        .then(() => displayChart(vegaEmbed));\n",
       "    }\n",
       "  })({\"config\": {\"view\": {\"continuousWidth\": 300, \"continuousHeight\": 300}}, \"data\": {\"url\": \"https://raw.githubusercontent.com/UIUC-iSchool-DataViz/is445_data/main/building_inventory.csv\"}, \"mark\": {\"type\": \"point\"}, \"encoding\": {\"color\": {\"field\": \"Agency Name\", \"scale\": {\"scheme\": \"viridis\"}, \"type\": \"nominal\"}, \"x\": {\"field\": \"Year Acquired\", \"type\": \"temporal\"}, \"y\": {\"field\": \"Square Footage\", \"type\": \"quantitative\"}}, \"$schema\": \"https://vega.github.io/schema/vega-lite/v5.15.1.json\"}, {\"mode\": \"vega-lite\"});\n",
       "</script>"
      ],
      "text/plain": [
       "alt.Chart(...)"
      ]
     },
     "execution_count": 347,
     "metadata": {},
     "output_type": "execute_result"
    }
   ],
   "source": [
    "altair_chart1"
   ]
  },
  {
   "cell_type": "code",
   "execution_count": 348,
   "id": "05c54237",
   "metadata": {},
   "outputs": [],
   "source": [
    "altair_chart1.save(myJekyllDir+'altair_plot.json')"
   ]
  },
  {
   "cell_type": "code",
   "execution_count": 359,
   "id": "3a69bd94",
   "metadata": {},
   "outputs": [
    {
     "data": {
      "text/html": [
       "\n",
       "<style>\n",
       "  #altair-viz-a5e9a659a2e04a6ab968f37f03dc5d21.vega-embed {\n",
       "    width: 100%;\n",
       "    display: flex;\n",
       "  }\n",
       "\n",
       "  #altair-viz-a5e9a659a2e04a6ab968f37f03dc5d21.vega-embed details,\n",
       "  #altair-viz-a5e9a659a2e04a6ab968f37f03dc5d21.vega-embed details summary {\n",
       "    position: relative;\n",
       "  }\n",
       "</style>\n",
       "<div id=\"altair-viz-a5e9a659a2e04a6ab968f37f03dc5d21\"></div>\n",
       "<script type=\"text/javascript\">\n",
       "  var VEGA_DEBUG = (typeof VEGA_DEBUG == \"undefined\") ? {} : VEGA_DEBUG;\n",
       "  (function(spec, embedOpt){\n",
       "    let outputDiv = document.currentScript.previousElementSibling;\n",
       "    if (outputDiv.id !== \"altair-viz-a5e9a659a2e04a6ab968f37f03dc5d21\") {\n",
       "      outputDiv = document.getElementById(\"altair-viz-a5e9a659a2e04a6ab968f37f03dc5d21\");\n",
       "    }\n",
       "    const paths = {\n",
       "      \"vega\": \"https://cdn.jsdelivr.net/npm/vega@5?noext\",\n",
       "      \"vega-lib\": \"https://cdn.jsdelivr.net/npm/vega-lib?noext\",\n",
       "      \"vega-lite\": \"https://cdn.jsdelivr.net/npm/vega-lite@5.15.1?noext\",\n",
       "      \"vega-embed\": \"https://cdn.jsdelivr.net/npm/vega-embed@6?noext\",\n",
       "    };\n",
       "\n",
       "    function maybeLoadScript(lib, version) {\n",
       "      var key = `${lib.replace(\"-\", \"\")}_version`;\n",
       "      return (VEGA_DEBUG[key] == version) ?\n",
       "        Promise.resolve(paths[lib]) :\n",
       "        new Promise(function(resolve, reject) {\n",
       "          var s = document.createElement('script');\n",
       "          document.getElementsByTagName(\"head\")[0].appendChild(s);\n",
       "          s.async = true;\n",
       "          s.onload = () => {\n",
       "            VEGA_DEBUG[key] = version;\n",
       "            return resolve(paths[lib]);\n",
       "          };\n",
       "          s.onerror = () => reject(`Error loading script: ${paths[lib]}`);\n",
       "          s.src = paths[lib];\n",
       "        });\n",
       "    }\n",
       "\n",
       "    function showError(err) {\n",
       "      outputDiv.innerHTML = `<div class=\"error\" style=\"color:red;\">${err}</div>`;\n",
       "      throw err;\n",
       "    }\n",
       "\n",
       "    function displayChart(vegaEmbed) {\n",
       "      vegaEmbed(outputDiv, spec, embedOpt)\n",
       "        .catch(err => showError(`Javascript Error: ${err.message}<br>This usually means there's a typo in your chart specification. See the javascript console for the full traceback.`));\n",
       "    }\n",
       "\n",
       "    if(typeof define === \"function\" && define.amd) {\n",
       "      requirejs.config({paths});\n",
       "      require([\"vega-embed\"], displayChart, err => showError(`Error loading script: ${err.message}`));\n",
       "    } else {\n",
       "      maybeLoadScript(\"vega\", \"5\")\n",
       "        .then(() => maybeLoadScript(\"vega-lite\", \"5.15.1\"))\n",
       "        .then(() => maybeLoadScript(\"vega-embed\", \"6\"))\n",
       "        .catch(showError)\n",
       "        .then(() => displayChart(vegaEmbed));\n",
       "    }\n",
       "  })({\"config\": {\"view\": {\"continuousWidth\": 300, \"continuousHeight\": 300}}, \"data\": {\"url\": \"https://raw.githubusercontent.com/UIUC-iSchool-DataViz/is445_data/main/building_inventory.csv\"}, \"mark\": {\"type\": \"bar\"}, \"encoding\": {\"color\": {\"field\": \"Agency Name\", \"scale\": {\"scheme\": \"viridis\"}, \"type\": \"nominal\"}, \"x\": {\"field\": \"Total Floors\", \"type\": \"quantitative\"}, \"y\": {\"aggregate\": \"count\", \"type\": \"quantitative\"}}, \"height\": 300, \"$schema\": \"https://vega.github.io/schema/vega-lite/v5.15.1.json\"}, {\"mode\": \"vega-lite\"});\n",
       "</script>"
      ],
      "text/plain": [
       "alt.Chart(...)"
      ]
     },
     "execution_count": 359,
     "metadata": {},
     "output_type": "execute_result"
    }
   ],
   "source": [
    "alt2 = alt.Chart(data_url).mark_bar().encode(\n",
    "    alt.X(\"Total Floors:Q\"),\n",
    "    alt.Y(\"count()\"),\n",
    "    alt.Color(\"Agency Name:N\",scale=alt.Scale(scheme='viridis'))\n",
    ").properties(height=300)\n",
    "alt2"
   ]
  },
  {
   "cell_type": "code",
   "execution_count": 351,
   "id": "cbed6666",
   "metadata": {},
   "outputs": [],
   "source": [
    "db = altair_chart1 | alt2"
   ]
  },
  {
   "cell_type": "code",
   "execution_count": 352,
   "id": "9914a859",
   "metadata": {},
   "outputs": [
    {
     "data": {
      "text/html": [
       "\n",
       "<style>\n",
       "  #altair-viz-ee8c13f553d4415a9fbb81e8a614af3b.vega-embed {\n",
       "    width: 100%;\n",
       "    display: flex;\n",
       "  }\n",
       "\n",
       "  #altair-viz-ee8c13f553d4415a9fbb81e8a614af3b.vega-embed details,\n",
       "  #altair-viz-ee8c13f553d4415a9fbb81e8a614af3b.vega-embed details summary {\n",
       "    position: relative;\n",
       "  }\n",
       "</style>\n",
       "<div id=\"altair-viz-ee8c13f553d4415a9fbb81e8a614af3b\"></div>\n",
       "<script type=\"text/javascript\">\n",
       "  var VEGA_DEBUG = (typeof VEGA_DEBUG == \"undefined\") ? {} : VEGA_DEBUG;\n",
       "  (function(spec, embedOpt){\n",
       "    let outputDiv = document.currentScript.previousElementSibling;\n",
       "    if (outputDiv.id !== \"altair-viz-ee8c13f553d4415a9fbb81e8a614af3b\") {\n",
       "      outputDiv = document.getElementById(\"altair-viz-ee8c13f553d4415a9fbb81e8a614af3b\");\n",
       "    }\n",
       "    const paths = {\n",
       "      \"vega\": \"https://cdn.jsdelivr.net/npm/vega@5?noext\",\n",
       "      \"vega-lib\": \"https://cdn.jsdelivr.net/npm/vega-lib?noext\",\n",
       "      \"vega-lite\": \"https://cdn.jsdelivr.net/npm/vega-lite@5.15.1?noext\",\n",
       "      \"vega-embed\": \"https://cdn.jsdelivr.net/npm/vega-embed@6?noext\",\n",
       "    };\n",
       "\n",
       "    function maybeLoadScript(lib, version) {\n",
       "      var key = `${lib.replace(\"-\", \"\")}_version`;\n",
       "      return (VEGA_DEBUG[key] == version) ?\n",
       "        Promise.resolve(paths[lib]) :\n",
       "        new Promise(function(resolve, reject) {\n",
       "          var s = document.createElement('script');\n",
       "          document.getElementsByTagName(\"head\")[0].appendChild(s);\n",
       "          s.async = true;\n",
       "          s.onload = () => {\n",
       "            VEGA_DEBUG[key] = version;\n",
       "            return resolve(paths[lib]);\n",
       "          };\n",
       "          s.onerror = () => reject(`Error loading script: ${paths[lib]}`);\n",
       "          s.src = paths[lib];\n",
       "        });\n",
       "    }\n",
       "\n",
       "    function showError(err) {\n",
       "      outputDiv.innerHTML = `<div class=\"error\" style=\"color:red;\">${err}</div>`;\n",
       "      throw err;\n",
       "    }\n",
       "\n",
       "    function displayChart(vegaEmbed) {\n",
       "      vegaEmbed(outputDiv, spec, embedOpt)\n",
       "        .catch(err => showError(`Javascript Error: ${err.message}<br>This usually means there's a typo in your chart specification. See the javascript console for the full traceback.`));\n",
       "    }\n",
       "\n",
       "    if(typeof define === \"function\" && define.amd) {\n",
       "      requirejs.config({paths});\n",
       "      require([\"vega-embed\"], displayChart, err => showError(`Error loading script: ${err.message}`));\n",
       "    } else {\n",
       "      maybeLoadScript(\"vega\", \"5\")\n",
       "        .then(() => maybeLoadScript(\"vega-lite\", \"5.15.1\"))\n",
       "        .then(() => maybeLoadScript(\"vega-embed\", \"6\"))\n",
       "        .catch(showError)\n",
       "        .then(() => displayChart(vegaEmbed));\n",
       "    }\n",
       "  })({\"config\": {\"view\": {\"continuousWidth\": 300, \"continuousHeight\": 300}}, \"hconcat\": [{\"mark\": {\"type\": \"point\"}, \"encoding\": {\"color\": {\"field\": \"Agency Name\", \"scale\": {\"scheme\": \"viridis\"}, \"type\": \"nominal\"}, \"x\": {\"field\": \"Year Acquired\", \"type\": \"temporal\"}, \"y\": {\"field\": \"Square Footage\", \"type\": \"quantitative\"}}}, {\"mark\": {\"type\": \"rect\"}, \"encoding\": {\"color\": {\"field\": \"Agency Name\", \"scale\": {\"scheme\": \"viridis\"}, \"type\": \"nominal\"}, \"x\": {\"field\": \"Total Floors\", \"type\": \"quantitative\"}, \"y\": {\"aggregate\": \"count\", \"type\": \"quantitative\"}}, \"height\": 300}], \"data\": {\"url\": \"https://raw.githubusercontent.com/UIUC-iSchool-DataViz/is445_data/main/building_inventory.csv\"}, \"$schema\": \"https://vega.github.io/schema/vega-lite/v5.15.1.json\"}, {\"mode\": \"vega-lite\"});\n",
       "</script>"
      ],
      "text/plain": [
       "alt.HConcatChart(...)"
      ]
     },
     "execution_count": 352,
     "metadata": {},
     "output_type": "execute_result"
    }
   ],
   "source": [
    "db"
   ]
  },
  {
   "cell_type": "code",
   "execution_count": 366,
   "id": "6b1b7941",
   "metadata": {},
   "outputs": [],
   "source": [
    "brush = alt.selection_interval(encodings=['x','y'])\n",
    "\n",
    "altair_chart1 = alt.Chart(data_url).mark_point().encode(\n",
    "    x='Year Acquired:T',\n",
    "    y='Square Footage:Q',\n",
    "    color = alt.Color('Agency Name:N',scale=alt.Scale(scheme='viridis'))).add_selection(brush)\n",
    "alt2 = alt.Chart(data_url).mark_bar().encode(\n",
    "    alt.X(\"Total Floors:Q\"),\n",
    "    alt.Y(\"count()\"),\n",
    "    alt.Color(\"Agency Name:N\",scale=alt.Scale(scheme='pastel1'))\n",
    ").properties(height=300).transform_filter(brush)"
   ]
  },
  {
   "cell_type": "code",
   "execution_count": 367,
   "id": "451b49b5",
   "metadata": {},
   "outputs": [],
   "source": [
    "db2 = altair_chart1 | alt2"
   ]
  },
  {
   "cell_type": "code",
   "execution_count": 368,
   "id": "c0c80abc",
   "metadata": {},
   "outputs": [
    {
     "data": {
      "text/html": [
       "\n",
       "<style>\n",
       "  #altair-viz-ad6616b7ea38453497705368142a9ffd.vega-embed {\n",
       "    width: 100%;\n",
       "    display: flex;\n",
       "  }\n",
       "\n",
       "  #altair-viz-ad6616b7ea38453497705368142a9ffd.vega-embed details,\n",
       "  #altair-viz-ad6616b7ea38453497705368142a9ffd.vega-embed details summary {\n",
       "    position: relative;\n",
       "  }\n",
       "</style>\n",
       "<div id=\"altair-viz-ad6616b7ea38453497705368142a9ffd\"></div>\n",
       "<script type=\"text/javascript\">\n",
       "  var VEGA_DEBUG = (typeof VEGA_DEBUG == \"undefined\") ? {} : VEGA_DEBUG;\n",
       "  (function(spec, embedOpt){\n",
       "    let outputDiv = document.currentScript.previousElementSibling;\n",
       "    if (outputDiv.id !== \"altair-viz-ad6616b7ea38453497705368142a9ffd\") {\n",
       "      outputDiv = document.getElementById(\"altair-viz-ad6616b7ea38453497705368142a9ffd\");\n",
       "    }\n",
       "    const paths = {\n",
       "      \"vega\": \"https://cdn.jsdelivr.net/npm/vega@5?noext\",\n",
       "      \"vega-lib\": \"https://cdn.jsdelivr.net/npm/vega-lib?noext\",\n",
       "      \"vega-lite\": \"https://cdn.jsdelivr.net/npm/vega-lite@5.15.1?noext\",\n",
       "      \"vega-embed\": \"https://cdn.jsdelivr.net/npm/vega-embed@6?noext\",\n",
       "    };\n",
       "\n",
       "    function maybeLoadScript(lib, version) {\n",
       "      var key = `${lib.replace(\"-\", \"\")}_version`;\n",
       "      return (VEGA_DEBUG[key] == version) ?\n",
       "        Promise.resolve(paths[lib]) :\n",
       "        new Promise(function(resolve, reject) {\n",
       "          var s = document.createElement('script');\n",
       "          document.getElementsByTagName(\"head\")[0].appendChild(s);\n",
       "          s.async = true;\n",
       "          s.onload = () => {\n",
       "            VEGA_DEBUG[key] = version;\n",
       "            return resolve(paths[lib]);\n",
       "          };\n",
       "          s.onerror = () => reject(`Error loading script: ${paths[lib]}`);\n",
       "          s.src = paths[lib];\n",
       "        });\n",
       "    }\n",
       "\n",
       "    function showError(err) {\n",
       "      outputDiv.innerHTML = `<div class=\"error\" style=\"color:red;\">${err}</div>`;\n",
       "      throw err;\n",
       "    }\n",
       "\n",
       "    function displayChart(vegaEmbed) {\n",
       "      vegaEmbed(outputDiv, spec, embedOpt)\n",
       "        .catch(err => showError(`Javascript Error: ${err.message}<br>This usually means there's a typo in your chart specification. See the javascript console for the full traceback.`));\n",
       "    }\n",
       "\n",
       "    if(typeof define === \"function\" && define.amd) {\n",
       "      requirejs.config({paths});\n",
       "      require([\"vega-embed\"], displayChart, err => showError(`Error loading script: ${err.message}`));\n",
       "    } else {\n",
       "      maybeLoadScript(\"vega\", \"5\")\n",
       "        .then(() => maybeLoadScript(\"vega-lite\", \"5.15.1\"))\n",
       "        .then(() => maybeLoadScript(\"vega-embed\", \"6\"))\n",
       "        .catch(showError)\n",
       "        .then(() => displayChart(vegaEmbed));\n",
       "    }\n",
       "  })({\"config\": {\"view\": {\"continuousWidth\": 300, \"continuousHeight\": 300}}, \"hconcat\": [{\"mark\": {\"type\": \"point\"}, \"encoding\": {\"color\": {\"field\": \"Agency Name\", \"scale\": {\"scheme\": \"viridis\"}, \"type\": \"nominal\"}, \"x\": {\"field\": \"Year Acquired\", \"type\": \"temporal\"}, \"y\": {\"field\": \"Square Footage\", \"type\": \"quantitative\"}}, \"name\": \"view_28\"}, {\"mark\": {\"type\": \"bar\"}, \"encoding\": {\"color\": {\"field\": \"Agency Name\", \"scale\": {\"scheme\": \"pastel1\"}, \"type\": \"nominal\"}, \"x\": {\"field\": \"Total Floors\", \"type\": \"quantitative\"}, \"y\": {\"aggregate\": \"count\", \"type\": \"quantitative\"}}, \"height\": 300, \"transform\": [{\"filter\": {\"param\": \"param_21\"}}]}], \"data\": {\"url\": \"https://raw.githubusercontent.com/UIUC-iSchool-DataViz/is445_data/main/building_inventory.csv\"}, \"params\": [{\"name\": \"param_21\", \"select\": {\"type\": \"interval\", \"encodings\": [\"x\", \"y\"]}, \"views\": [\"view_28\"]}], \"$schema\": \"https://vega.github.io/schema/vega-lite/v5.15.1.json\"}, {\"mode\": \"vega-lite\"});\n",
       "</script>"
      ],
      "text/plain": [
       "alt.HConcatChart(...)"
      ]
     },
     "execution_count": 368,
     "metadata": {},
     "output_type": "execute_result"
    }
   ],
   "source": [
    "db2"
   ]
  },
  {
   "cell_type": "code",
   "execution_count": 402,
   "id": "32152047",
   "metadata": {},
   "outputs": [
    {
     "name": "stderr",
     "output_type": "stream",
     "text": [
      "/Users/sanjana_pai/opt/anaconda3/lib/python3.9/site-packages/altair/utils/deprecation.py:65: AltairDeprecationWarning: 'add_selection' is deprecated. Use 'add_params' instead.\n",
      "  warnings.warn(message, AltairDeprecationWarning, stacklevel=1)\n"
     ]
    }
   ],
   "source": [
    "brush = alt.selection_interval(encodings=['x','y'])\n",
    "\n",
    "altair_chart1 = alt.Chart(data_url).mark_rect().encode(\n",
    "    x='Year Acquired:T',\n",
    "    y='Square Footage:Q',\n",
    "    color = alt.Color('Agency Name:N',scale=alt.Scale(scheme='viridis'))).add_selection(brush)\n",
    "alt2 = alt.Chart(data_url).mark_bar().encode(\n",
    "    alt.X(\"Total Floors:Q\"),\n",
    "    alt.Y(\"count()\"),\n",
    "    alt.Color(\"Agency Name:N\",scale=alt.Scale(scheme='viridis'))\n",
    ").properties(height=300).transform_filter(brush)"
   ]
  },
  {
   "cell_type": "code",
   "execution_count": 403,
   "id": "de4f5752",
   "metadata": {},
   "outputs": [],
   "source": [
    "dashboard_alt = altair_chart1 | alt2"
   ]
  },
  {
   "cell_type": "code",
   "execution_count": 404,
   "id": "abca6c4c",
   "metadata": {},
   "outputs": [
    {
     "data": {
      "text/html": [
       "\n",
       "<style>\n",
       "  #altair-viz-0a794449ad47483dae55e8c395bea72a.vega-embed {\n",
       "    width: 100%;\n",
       "    display: flex;\n",
       "  }\n",
       "\n",
       "  #altair-viz-0a794449ad47483dae55e8c395bea72a.vega-embed details,\n",
       "  #altair-viz-0a794449ad47483dae55e8c395bea72a.vega-embed details summary {\n",
       "    position: relative;\n",
       "  }\n",
       "</style>\n",
       "<div id=\"altair-viz-0a794449ad47483dae55e8c395bea72a\"></div>\n",
       "<script type=\"text/javascript\">\n",
       "  var VEGA_DEBUG = (typeof VEGA_DEBUG == \"undefined\") ? {} : VEGA_DEBUG;\n",
       "  (function(spec, embedOpt){\n",
       "    let outputDiv = document.currentScript.previousElementSibling;\n",
       "    if (outputDiv.id !== \"altair-viz-0a794449ad47483dae55e8c395bea72a\") {\n",
       "      outputDiv = document.getElementById(\"altair-viz-0a794449ad47483dae55e8c395bea72a\");\n",
       "    }\n",
       "    const paths = {\n",
       "      \"vega\": \"https://cdn.jsdelivr.net/npm/vega@5?noext\",\n",
       "      \"vega-lib\": \"https://cdn.jsdelivr.net/npm/vega-lib?noext\",\n",
       "      \"vega-lite\": \"https://cdn.jsdelivr.net/npm/vega-lite@5.15.1?noext\",\n",
       "      \"vega-embed\": \"https://cdn.jsdelivr.net/npm/vega-embed@6?noext\",\n",
       "    };\n",
       "\n",
       "    function maybeLoadScript(lib, version) {\n",
       "      var key = `${lib.replace(\"-\", \"\")}_version`;\n",
       "      return (VEGA_DEBUG[key] == version) ?\n",
       "        Promise.resolve(paths[lib]) :\n",
       "        new Promise(function(resolve, reject) {\n",
       "          var s = document.createElement('script');\n",
       "          document.getElementsByTagName(\"head\")[0].appendChild(s);\n",
       "          s.async = true;\n",
       "          s.onload = () => {\n",
       "            VEGA_DEBUG[key] = version;\n",
       "            return resolve(paths[lib]);\n",
       "          };\n",
       "          s.onerror = () => reject(`Error loading script: ${paths[lib]}`);\n",
       "          s.src = paths[lib];\n",
       "        });\n",
       "    }\n",
       "\n",
       "    function showError(err) {\n",
       "      outputDiv.innerHTML = `<div class=\"error\" style=\"color:red;\">${err}</div>`;\n",
       "      throw err;\n",
       "    }\n",
       "\n",
       "    function displayChart(vegaEmbed) {\n",
       "      vegaEmbed(outputDiv, spec, embedOpt)\n",
       "        .catch(err => showError(`Javascript Error: ${err.message}<br>This usually means there's a typo in your chart specification. See the javascript console for the full traceback.`));\n",
       "    }\n",
       "\n",
       "    if(typeof define === \"function\" && define.amd) {\n",
       "      requirejs.config({paths});\n",
       "      require([\"vega-embed\"], displayChart, err => showError(`Error loading script: ${err.message}`));\n",
       "    } else {\n",
       "      maybeLoadScript(\"vega\", \"5\")\n",
       "        .then(() => maybeLoadScript(\"vega-lite\", \"5.15.1\"))\n",
       "        .then(() => maybeLoadScript(\"vega-embed\", \"6\"))\n",
       "        .catch(showError)\n",
       "        .then(() => displayChart(vegaEmbed));\n",
       "    }\n",
       "  })({\"config\": {\"view\": {\"continuousWidth\": 300, \"continuousHeight\": 300}}, \"hconcat\": [{\"mark\": {\"type\": \"rect\"}, \"encoding\": {\"color\": {\"field\": \"Agency Name\", \"scale\": {\"scheme\": \"viridis\"}, \"type\": \"nominal\"}, \"x\": {\"field\": \"Year Acquired\", \"type\": \"temporal\"}, \"y\": {\"field\": \"Square Footage\", \"type\": \"quantitative\"}}, \"name\": \"view_30\"}, {\"mark\": {\"type\": \"bar\"}, \"encoding\": {\"color\": {\"field\": \"Agency Name\", \"scale\": {\"scheme\": \"viridis\"}, \"type\": \"nominal\"}, \"x\": {\"field\": \"Total Floors\", \"type\": \"quantitative\"}, \"y\": {\"aggregate\": \"count\", \"type\": \"quantitative\"}}, \"height\": 300, \"transform\": [{\"filter\": {\"param\": \"param_23\"}}]}], \"data\": {\"url\": \"https://raw.githubusercontent.com/UIUC-iSchool-DataViz/is445_data/main/building_inventory.csv\"}, \"params\": [{\"name\": \"param_23\", \"select\": {\"type\": \"interval\", \"encodings\": [\"x\", \"y\"]}, \"views\": [\"view_30\"]}], \"$schema\": \"https://vega.github.io/schema/vega-lite/v5.15.1.json\"}, {\"mode\": \"vega-lite\"});\n",
       "</script>"
      ],
      "text/plain": [
       "alt.HConcatChart(...)"
      ]
     },
     "execution_count": 404,
     "metadata": {},
     "output_type": "execute_result"
    }
   ],
   "source": [
    "dashboard_alt"
   ]
  },
  {
   "cell_type": "code",
   "execution_count": 422,
   "id": "da48855a",
   "metadata": {},
   "outputs": [
    {
     "data": {
      "text/html": [
       "\n",
       "<style>\n",
       "  #altair-viz-b3d26712119f42ecbdd1f9df2b561328.vega-embed {\n",
       "    width: 100%;\n",
       "    display: flex;\n",
       "  }\n",
       "\n",
       "  #altair-viz-b3d26712119f42ecbdd1f9df2b561328.vega-embed details,\n",
       "  #altair-viz-b3d26712119f42ecbdd1f9df2b561328.vega-embed details summary {\n",
       "    position: relative;\n",
       "  }\n",
       "</style>\n",
       "<div id=\"altair-viz-b3d26712119f42ecbdd1f9df2b561328\"></div>\n",
       "<script type=\"text/javascript\">\n",
       "  var VEGA_DEBUG = (typeof VEGA_DEBUG == \"undefined\") ? {} : VEGA_DEBUG;\n",
       "  (function(spec, embedOpt){\n",
       "    let outputDiv = document.currentScript.previousElementSibling;\n",
       "    if (outputDiv.id !== \"altair-viz-b3d26712119f42ecbdd1f9df2b561328\") {\n",
       "      outputDiv = document.getElementById(\"altair-viz-b3d26712119f42ecbdd1f9df2b561328\");\n",
       "    }\n",
       "    const paths = {\n",
       "      \"vega\": \"https://cdn.jsdelivr.net/npm/vega@5?noext\",\n",
       "      \"vega-lib\": \"https://cdn.jsdelivr.net/npm/vega-lib?noext\",\n",
       "      \"vega-lite\": \"https://cdn.jsdelivr.net/npm/vega-lite@5.15.1?noext\",\n",
       "      \"vega-embed\": \"https://cdn.jsdelivr.net/npm/vega-embed@6?noext\",\n",
       "    };\n",
       "\n",
       "    function maybeLoadScript(lib, version) {\n",
       "      var key = `${lib.replace(\"-\", \"\")}_version`;\n",
       "      return (VEGA_DEBUG[key] == version) ?\n",
       "        Promise.resolve(paths[lib]) :\n",
       "        new Promise(function(resolve, reject) {\n",
       "          var s = document.createElement('script');\n",
       "          document.getElementsByTagName(\"head\")[0].appendChild(s);\n",
       "          s.async = true;\n",
       "          s.onload = () => {\n",
       "            VEGA_DEBUG[key] = version;\n",
       "            return resolve(paths[lib]);\n",
       "          };\n",
       "          s.onerror = () => reject(`Error loading script: ${paths[lib]}`);\n",
       "          s.src = paths[lib];\n",
       "        });\n",
       "    }\n",
       "\n",
       "    function showError(err) {\n",
       "      outputDiv.innerHTML = `<div class=\"error\" style=\"color:red;\">${err}</div>`;\n",
       "      throw err;\n",
       "    }\n",
       "\n",
       "    function displayChart(vegaEmbed) {\n",
       "      vegaEmbed(outputDiv, spec, embedOpt)\n",
       "        .catch(err => showError(`Javascript Error: ${err.message}<br>This usually means there's a typo in your chart specification. See the javascript console for the full traceback.`));\n",
       "    }\n",
       "\n",
       "    if(typeof define === \"function\" && define.amd) {\n",
       "      requirejs.config({paths});\n",
       "      require([\"vega-embed\"], displayChart, err => showError(`Error loading script: ${err.message}`));\n",
       "    } else {\n",
       "      maybeLoadScript(\"vega\", \"5\")\n",
       "        .then(() => maybeLoadScript(\"vega-lite\", \"5.15.1\"))\n",
       "        .then(() => maybeLoadScript(\"vega-embed\", \"6\"))\n",
       "        .catch(showError)\n",
       "        .then(() => displayChart(vegaEmbed));\n",
       "    }\n",
       "  })({\"config\": {\"view\": {\"continuousWidth\": 300, \"continuousHeight\": 300}}, \"data\": {\"name\": \"data-4418cfc3593c7dab14bf366a895ebe10\"}, \"mark\": {\"type\": \"bar\", \"color\": \"green\"}, \"encoding\": {\"x\": {\"field\": \"County\", \"sort\": \"-y\", \"type\": \"nominal\"}, \"y\": {\"field\": \"Count\", \"type\": \"quantitative\"}}, \"height\": 300, \"width\": 850, \"$schema\": \"https://vega.github.io/schema/vega-lite/v5.15.1.json\", \"datasets\": {\"data-4418cfc3593c7dab14bf366a895ebe10\": [{\"County\": \"Cook\", \"Count\": 518}, {\"County\": \"Jackson\", \"Count\": 488}, {\"County\": \"Randolph\", \"Count\": 440}, {\"County\": \"Sangamon\", \"Count\": 437}, {\"County\": \"Champaign\", \"Count\": 416}, {\"County\": \"Will\", \"Count\": 293}, {\"County\": \"LaSalle\", \"Count\": 289}, {\"County\": \"Jersey\", \"Count\": 241}, {\"County\": \"McLean\", \"Count\": 188}, {\"County\": \"Peoria\", \"Count\": 183}, {\"County\": \"Madison\", \"Count\": 180}, {\"County\": \"Jefferson\", \"Count\": 164}, {\"County\": \"Kankakee\", \"Count\": 164}, {\"County\": \"Lee\", \"Count\": 161}, {\"County\": \"Livingston\", \"Count\": 160}, {\"County\": \"Clinton\", \"Count\": 153}, {\"County\": \"Lake\", \"Count\": 142}, {\"County\": \"McHenry\", \"Count\": 133}, {\"County\": \"Fayette\", \"Count\": 133}, {\"County\": \"Johnson\", \"Count\": 132}, {\"County\": \"Logan\", \"Count\": 131}, {\"County\": \"Vermilion\", \"Count\": 128}, {\"County\": \"Perry\", \"Count\": 127}, {\"County\": \"Kane\", \"Count\": 124}, {\"County\": \"Coles\", \"Count\": 112}, {\"County\": \"Union\", \"Count\": 110}, {\"County\": \"St. Clair\", \"Count\": 109}, {\"County\": \"Ogle\", \"Count\": 107}, {\"County\": \"Cass\", \"Count\": 99}, {\"County\": \"DeKalb\", \"Count\": 99}, {\"County\": \"Henry\", \"Count\": 90}, {\"County\": \"McDonough\", \"Count\": 90}, {\"County\": \"Morgan\", \"Count\": 88}, {\"County\": \"Menard\", \"Count\": 85}, {\"County\": \"Whiteside\", \"Count\": 84}, {\"County\": \"Bureau\", \"Count\": 84}, {\"County\": \"Christian\", \"Count\": 80}, {\"County\": \"Rock Island\", \"Count\": 80}, {\"County\": \"Fulton\", \"Count\": 79}, {\"County\": \"Carroll\", \"Count\": 78}, {\"County\": \"Adams\", \"Count\": 78}, {\"County\": \"Montgomery\", \"Count\": 74}, {\"County\": \"Jo Daviess\", \"Count\": 68}, {\"County\": \"Shelby\", \"Count\": 66}, {\"County\": \"Jasper\", \"Count\": 61}, {\"County\": \"Winnebago\", \"Count\": 60}, {\"County\": \"Marion\", \"Count\": 59}, {\"County\": \"Lawrence\", \"Count\": 58}, {\"County\": \"Saline\", \"Count\": 57}, {\"County\": \"DeWitt\", \"Count\": 57}, {\"County\": \"Pope\", \"Count\": 55}, {\"County\": \"Macon\", \"Count\": 52}, {\"County\": \"Mason\", \"Count\": 49}, {\"County\": \"Massac\", \"Count\": 48}, {\"County\": \"Knox\", \"Count\": 48}, {\"County\": \"Alexander\", \"Count\": 45}, {\"County\": \"Grundy\", \"Count\": 45}, {\"County\": \"Crawford\", \"Count\": 40}, {\"County\": \"Washington\", \"Count\": 40}, {\"County\": \"Hardin\", \"Count\": 39}, {\"County\": \"Effingham\", \"Count\": 38}, {\"County\": \"DuPage\", \"Count\": 38}, {\"County\": \"Tazewell\", \"Count\": 37}, {\"County\": \"Clark\", \"Count\": 37}, {\"County\": \"Hamilton\", \"Count\": 34}, {\"County\": \"Stephenson\", \"Count\": 34}, {\"County\": \"Hancock\", \"Count\": 31}, {\"County\": \"Kendall\", \"Count\": 30}, {\"County\": \"Iroquois\", \"Count\": 30}, {\"County\": \"Macoupin\", \"Count\": 30}, {\"County\": \"Brown\", \"Count\": 29}, {\"County\": \"Schuyler\", \"Count\": 28}, {\"County\": \"Marshall\", \"Count\": 25}, {\"County\": \"Moultrie\", \"Count\": 25}, {\"County\": \"Woodford\", \"Count\": 24}, {\"County\": \"Williamson\", \"Count\": 23}, {\"County\": \"Douglas\", \"Count\": 22}, {\"County\": \"Franklin\", \"Count\": 21}, {\"County\": \"Wayne\", \"Count\": 20}, {\"County\": \"Pike\", \"Count\": 19}, {\"County\": \"Gallatin\", \"Count\": 15}, {\"County\": \"Henderson\", \"Count\": 14}, {\"County\": \"White\", \"Count\": 14}, {\"County\": \"Statewide\", \"Count\": 13}, {\"County\": \"Monroe\", \"Count\": 11}, {\"County\": \"Edgar\", \"Count\": 10}, {\"County\": \"Greene\", \"Count\": 9}, {\"County\": \"Piatt\", \"Count\": 8}, {\"County\": \"Stark\", \"Count\": 8}, {\"County\": \"Wabash\", \"Count\": 7}, {\"County\": \"Warren\", \"Count\": 7}, {\"County\": \"Richland\", \"Count\": 6}, {\"County\": \"Cumberland\", \"Count\": 6}, {\"County\": \"Clay\", \"Count\": 5}, {\"County\": \"Scott\", \"Count\": 5}, {\"County\": \"Boone\", \"Count\": 5}, {\"County\": \"Bond\", \"Count\": 4}, {\"County\": \"Ford\", \"Count\": 4}, {\"County\": \"Mercer\", \"Count\": 4}, {\"County\": \"Pulaski\", \"Count\": 4}, {\"County\": \"Calhoun\", \"Count\": 4}, {\"County\": \"Putnam\", \"Count\": 1}]}}, {\"mode\": \"vega-lite\"});\n",
       "</script>"
      ],
      "text/plain": [
       "alt.Chart(...)"
      ]
     },
     "execution_count": 422,
     "metadata": {},
     "output_type": "execute_result"
    }
   ],
   "source": [
    "df = pd.read_csv(data_url)\n",
    "\n",
    "# Create a new dataframe with aggregated counts\n",
    "count_df = df['County'].value_counts().reset_index()\n",
    "count_df.columns = ['County', 'Count']\n",
    "\n",
    "# Create the chart using the aggregated dataframe\n",
    "alt3 = alt.Chart(count_df).mark_bar(color='green').encode(\n",
    "    alt.X(\"County:N\", sort='-y'),  # Sorting based on Count in descending order\n",
    "    alt.Y(\"Count:Q\"),\n",
    ").properties(height=300,width=850)\n",
    "\n",
    "alt3"
   ]
  },
  {
   "cell_type": "markdown",
   "id": "d3e25a16",
   "metadata": {},
   "source": [
    "#### Saving all my visualizations to showcase on my page"
   ]
  },
  {
   "cell_type": "code",
   "execution_count": 423,
   "id": "24910528",
   "metadata": {},
   "outputs": [],
   "source": [
    "alt3.save(myJekyllDir+\"alt3.json\")\n",
    "db2.save(myJekyllDir+\"dynamicdb1.json\")\n",
    "dashboard_alt.save(myJekyllDir+\"dynamicdb2.json\")"
   ]
  },
  {
   "cell_type": "code",
   "execution_count": null,
   "id": "2f1d3d87",
   "metadata": {},
   "outputs": [],
   "source": []
  }
 ],
 "metadata": {
  "kernelspec": {
   "display_name": "Python 3 (ipykernel)",
   "language": "python",
   "name": "python3"
  },
  "language_info": {
   "codemirror_mode": {
    "name": "ipython",
    "version": 3
   },
   "file_extension": ".py",
   "mimetype": "text/x-python",
   "name": "python",
   "nbconvert_exporter": "python",
   "pygments_lexer": "ipython3",
   "version": "3.9.12"
  }
 },
 "nbformat": 4,
 "nbformat_minor": 5
}
