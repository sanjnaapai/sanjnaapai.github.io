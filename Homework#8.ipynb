{
 "cells": [
  {
   "cell_type": "code",
   "execution_count": null,
   "id": "e5026bbb",
   "metadata": {},
   "outputs": [
    {
     "ename": "",
     "evalue": "",
     "output_type": "error",
     "traceback": [
      "\u001b[1;31mFailed to start the Kernel. \n",
      "\u001b[1;31mKernel Python 3.11.1 is not usable. Check the Jupyter output tab for more information. \n",
      "\u001b[1;31mView Jupyter <a href='command:jupyter.viewOutput'>log</a> for further details."
     ]
    }
   ],
   "source": [
    "import altair as alt"
   ]
  },
  {
   "cell_type": "markdown",
   "id": "91aa76f7",
   "metadata": {},
   "source": [
    "```javascript\n",
    "var vis_transform_agency = {\n",
    "  // 1. data\n",
    "\"data\": {\"url\": \"https://raw.githubusercontent.com/UIUC-iSchool-DataViz/is445_data/main/building_inventory.csv\"},\n",
    "  \"mark\": \"bar\",\n",
    "  \"encoding\": {\n",
    "    \"x\": { \"field\": \"Agency Name\", \"type\": \"nominal\"},\n",
    "    \"y\": {\"aggregate\": \"count\"}\n",
    "  }\n",
    "  \n",
    "};\n",
    "\n",
    "var v = vegaEmbed('#vis3',vis_transform_agency);```\n"
   ]
  },
  {
   "cell_type": "code",
   "execution_count": null,
   "id": "35ffd3dd",
   "metadata": {},
   "outputs": [
    {
     "ename": "",
     "evalue": "",
     "output_type": "error",
     "traceback": [
      "\u001b[1;31mFailed to start the Kernel. \n",
      "\u001b[1;31mKernel Python 3.11.1 is not usable. Check the Jupyter output tab for more information. \n",
      "\u001b[1;31mView Jupyter <a href='command:jupyter.viewOutput'>log</a> for further details."
     ]
    }
   ],
   "source": [
    "chart1 = alt.Chart.from_dict({\n",
    "    \"data\": {\"url\": \"https://raw.githubusercontent.com/UIUC-iSchool-DataViz/is445_data/main/building_inventory.csv\"},\n",
    "    \"mark\": \"bar\",\n",
    "    \"encoding\": {\n",
    "        \"x\": {\"field\": \"Agency Name\", \"type\": \"nominal\", \"title\": \"Agency Name\"},\n",
    "        \"y\": {\"aggregate\": \"count\", \"title\": \"Count\"},\n",
    "        \"color\": {\"field\": \"Agency Name\", \"type\": \"nominal\", \"scale\": {\"scheme\": \"purples\"}, \"legend\": None},\n",
    "        \"tooltip\": [\n",
    "            {\"field\": \"Agency Name\", \"type\": \"nominal\", \"title\": \"Agency Name\"},\n",
    "            {\"aggregate\": \"count\", \"title\": \"Count\"}\n",
    "        ],\n",
    "    },\n",
    "    \"title\": \"Number of Buildings by Agency\"\n",
    "}).properties(width=600, height=400)\n",
    "\n"
   ]
  },
  {
   "cell_type": "code",
   "execution_count": 431,
   "id": "702c3052",
   "metadata": {},
   "outputs": [
    {
     "data": {
      "text/html": [
       "\n",
       "<style>\n",
       "  #altair-viz-170af28a6dc44e5cb5365ebc41859e66.vega-embed {\n",
       "    width: 100%;\n",
       "    display: flex;\n",
       "  }\n",
       "\n",
       "  #altair-viz-170af28a6dc44e5cb5365ebc41859e66.vega-embed details,\n",
       "  #altair-viz-170af28a6dc44e5cb5365ebc41859e66.vega-embed details summary {\n",
       "    position: relative;\n",
       "  }\n",
       "</style>\n",
       "<div id=\"altair-viz-170af28a6dc44e5cb5365ebc41859e66\"></div>\n",
       "<script type=\"text/javascript\">\n",
       "  var VEGA_DEBUG = (typeof VEGA_DEBUG == \"undefined\") ? {} : VEGA_DEBUG;\n",
       "  (function(spec, embedOpt){\n",
       "    let outputDiv = document.currentScript.previousElementSibling;\n",
       "    if (outputDiv.id !== \"altair-viz-170af28a6dc44e5cb5365ebc41859e66\") {\n",
       "      outputDiv = document.getElementById(\"altair-viz-170af28a6dc44e5cb5365ebc41859e66\");\n",
       "    }\n",
       "    const paths = {\n",
       "      \"vega\": \"https://cdn.jsdelivr.net/npm/vega@5?noext\",\n",
       "      \"vega-lib\": \"https://cdn.jsdelivr.net/npm/vega-lib?noext\",\n",
       "      \"vega-lite\": \"https://cdn.jsdelivr.net/npm/vega-lite@5.15.1?noext\",\n",
       "      \"vega-embed\": \"https://cdn.jsdelivr.net/npm/vega-embed@6?noext\",\n",
       "    };\n",
       "\n",
       "    function maybeLoadScript(lib, version) {\n",
       "      var key = `${lib.replace(\"-\", \"\")}_version`;\n",
       "      return (VEGA_DEBUG[key] == version) ?\n",
       "        Promise.resolve(paths[lib]) :\n",
       "        new Promise(function(resolve, reject) {\n",
       "          var s = document.createElement('script');\n",
       "          document.getElementsByTagName(\"head\")[0].appendChild(s);\n",
       "          s.async = true;\n",
       "          s.onload = () => {\n",
       "            VEGA_DEBUG[key] = version;\n",
       "            return resolve(paths[lib]);\n",
       "          };\n",
       "          s.onerror = () => reject(`Error loading script: ${paths[lib]}`);\n",
       "          s.src = paths[lib];\n",
       "        });\n",
       "    }\n",
       "\n",
       "    function showError(err) {\n",
       "      outputDiv.innerHTML = `<div class=\"error\" style=\"color:red;\">${err}</div>`;\n",
       "      throw err;\n",
       "    }\n",
       "\n",
       "    function displayChart(vegaEmbed) {\n",
       "      vegaEmbed(outputDiv, spec, embedOpt)\n",
       "        .catch(err => showError(`Javascript Error: ${err.message}<br>This usually means there's a typo in your chart specification. See the javascript console for the full traceback.`));\n",
       "    }\n",
       "\n",
       "    if(typeof define === \"function\" && define.amd) {\n",
       "      requirejs.config({paths});\n",
       "      require([\"vega-embed\"], displayChart, err => showError(`Error loading script: ${err.message}`));\n",
       "    } else {\n",
       "      maybeLoadScript(\"vega\", \"5\")\n",
       "        .then(() => maybeLoadScript(\"vega-lite\", \"5.15.1\"))\n",
       "        .then(() => maybeLoadScript(\"vega-embed\", \"6\"))\n",
       "        .catch(showError)\n",
       "        .then(() => displayChart(vegaEmbed));\n",
       "    }\n",
       "  })({\"config\": {\"view\": {\"continuousWidth\": 300, \"continuousHeight\": 300}}, \"data\": {\"url\": \"https://raw.githubusercontent.com/UIUC-iSchool-DataViz/is445_data/main/building_inventory.csv\"}, \"mark\": \"bar\", \"encoding\": {\"color\": {\"field\": \"Agency Name\", \"legend\": null, \"scale\": {\"scheme\": \"purples\"}, \"type\": \"nominal\"}, \"tooltip\": [{\"field\": \"Agency Name\", \"title\": \"Agency Name\", \"type\": \"nominal\"}, {\"aggregate\": \"count\", \"title\": \"Count\"}], \"x\": {\"field\": \"Agency Name\", \"title\": \"Agency Name\", \"type\": \"nominal\"}, \"y\": {\"aggregate\": \"count\", \"title\": \"Count\"}}, \"height\": 400, \"title\": \"Number of Buildings by Agency\", \"width\": 600, \"$schema\": \"https://vega.github.io/schema/vega-lite/v5.15.1.json\"}, {\"mode\": \"vega-lite\"});\n",
       "</script>"
      ],
      "text/plain": [
       "alt.Chart(...)"
      ]
     },
     "execution_count": 431,
     "metadata": {},
     "output_type": "execute_result"
    }
   ],
   "source": [
    "chart1"
   ]
  },
  {
   "cell_type": "code",
   "execution_count": 432,
   "id": "beef1961",
   "metadata": {},
   "outputs": [],
   "source": [
    "myJekyllDir = '/Users/sanjana_pai/Desktop/sanjnaapai.github.io/assets/json/'"
   ]
  },
  {
   "cell_type": "code",
   "execution_count": 433,
   "id": "6da3d309",
   "metadata": {},
   "outputs": [],
   "source": [
    "chart1.properties(width='container').save(myJekyllDir+'chart1.json')"
   ]
  },
  {
   "cell_type": "markdown",
   "id": "9fbd6074",
   "metadata": {},
   "source": [
    "``` javascript\n",
    "var myfirstplot = {\n",
    "  // 1. data\n",
    "  \"data\":{\"url\":\"https://raw.githubusercontent.com/UIUC-iSchool-DataViz/is445_data/main/building_inventory.csv\"},\n",
    "  // 2. mark\n",
    "  \"mark\":\"point\",\n",
    "  // 3. scales/axis ==> encoding\n",
    "  \"encoding\":{\n",
    "    \"x\":{\"field\":\"Year Acquired\",\"type\":\"temporal\"},\n",
    "    \"y\":{\"field\":\"Square Footage\",\"type\":\"quantitative\"}\n",
    "  } // end of encoding\n",
    "  \n",
    "};\n",
    "\n",
    "var v = vegaEmbed('#vis11',myfirstplot);\n",
    "```"
   ]
  },
  {
   "cell_type": "code",
   "execution_count": 434,
   "id": "95585eeb",
   "metadata": {},
   "outputs": [],
   "source": [
    "chart2 = alt.Chart.from_dict({\n",
    "    \"data\": {\"url\":\"https://raw.githubusercontent.com/UIUC-iSchool-DataViz/is445_data/main/building_inventory.csv\"\n",
    "},\n",
    "    # 2. mark\n",
    "    \"mark\": {\"type\": \"circle\", \"filled\": True, \"size\": 100},\n",
    "    # 3. scales/axis ==> encoding\n",
    "    \"encoding\": {\n",
    "        \"x\": {\"field\": \"Year Acquired\", \"type\": \"temporal\", \"title\": \"Year Acquired\"},\n",
    "        \"y\": {\"field\": \"Square Footage\", \"type\": \"quantitative\", \"title\": \"Square Footage\"},\n",
    "        \"color\": {\"field\": \"Agency Name\", \"type\": \"nominal\", \"scale\": {\"scheme\": \"category10\"}},\n",
    "        \"tooltip\": [\n",
    "            {\"field\": \"Building Name\", \"type\": \"nominal\", \"title\": \"Building Name\"},\n",
    "            {\"field\": \"Year Constructed\", \"type\": \"temporal\", \"title\": \"Year Constructed\"},\n",
    "            {\"field\": \"Congress Dist\", \"type\": \"ordinal\", \"title\": \"Congressional District\"},\n",
    "        ],\n",
    "    },\n",
    "})\n",
    "chart2 = chart2.properties(width=300, height=400)\n"
   ]
  },
  {
   "cell_type": "code",
   "execution_count": 435,
   "id": "aedc15bc",
   "metadata": {},
   "outputs": [
    {
     "data": {
      "text/html": [
       "\n",
       "<style>\n",
       "  #altair-viz-505213a7e5de4d8da6929db677060a55.vega-embed {\n",
       "    width: 100%;\n",
       "    display: flex;\n",
       "  }\n",
       "\n",
       "  #altair-viz-505213a7e5de4d8da6929db677060a55.vega-embed details,\n",
       "  #altair-viz-505213a7e5de4d8da6929db677060a55.vega-embed details summary {\n",
       "    position: relative;\n",
       "  }\n",
       "</style>\n",
       "<div id=\"altair-viz-505213a7e5de4d8da6929db677060a55\"></div>\n",
       "<script type=\"text/javascript\">\n",
       "  var VEGA_DEBUG = (typeof VEGA_DEBUG == \"undefined\") ? {} : VEGA_DEBUG;\n",
       "  (function(spec, embedOpt){\n",
       "    let outputDiv = document.currentScript.previousElementSibling;\n",
       "    if (outputDiv.id !== \"altair-viz-505213a7e5de4d8da6929db677060a55\") {\n",
       "      outputDiv = document.getElementById(\"altair-viz-505213a7e5de4d8da6929db677060a55\");\n",
       "    }\n",
       "    const paths = {\n",
       "      \"vega\": \"https://cdn.jsdelivr.net/npm/vega@5?noext\",\n",
       "      \"vega-lib\": \"https://cdn.jsdelivr.net/npm/vega-lib?noext\",\n",
       "      \"vega-lite\": \"https://cdn.jsdelivr.net/npm/vega-lite@5.15.1?noext\",\n",
       "      \"vega-embed\": \"https://cdn.jsdelivr.net/npm/vega-embed@6?noext\",\n",
       "    };\n",
       "\n",
       "    function maybeLoadScript(lib, version) {\n",
       "      var key = `${lib.replace(\"-\", \"\")}_version`;\n",
       "      return (VEGA_DEBUG[key] == version) ?\n",
       "        Promise.resolve(paths[lib]) :\n",
       "        new Promise(function(resolve, reject) {\n",
       "          var s = document.createElement('script');\n",
       "          document.getElementsByTagName(\"head\")[0].appendChild(s);\n",
       "          s.async = true;\n",
       "          s.onload = () => {\n",
       "            VEGA_DEBUG[key] = version;\n",
       "            return resolve(paths[lib]);\n",
       "          };\n",
       "          s.onerror = () => reject(`Error loading script: ${paths[lib]}`);\n",
       "          s.src = paths[lib];\n",
       "        });\n",
       "    }\n",
       "\n",
       "    function showError(err) {\n",
       "      outputDiv.innerHTML = `<div class=\"error\" style=\"color:red;\">${err}</div>`;\n",
       "      throw err;\n",
       "    }\n",
       "\n",
       "    function displayChart(vegaEmbed) {\n",
       "      vegaEmbed(outputDiv, spec, embedOpt)\n",
       "        .catch(err => showError(`Javascript Error: ${err.message}<br>This usually means there's a typo in your chart specification. See the javascript console for the full traceback.`));\n",
       "    }\n",
       "\n",
       "    if(typeof define === \"function\" && define.amd) {\n",
       "      requirejs.config({paths});\n",
       "      require([\"vega-embed\"], displayChart, err => showError(`Error loading script: ${err.message}`));\n",
       "    } else {\n",
       "      maybeLoadScript(\"vega\", \"5\")\n",
       "        .then(() => maybeLoadScript(\"vega-lite\", \"5.15.1\"))\n",
       "        .then(() => maybeLoadScript(\"vega-embed\", \"6\"))\n",
       "        .catch(showError)\n",
       "        .then(() => displayChart(vegaEmbed));\n",
       "    }\n",
       "  })({\"config\": {\"view\": {\"continuousWidth\": 300, \"continuousHeight\": 300}}, \"data\": {\"url\": \"https://raw.githubusercontent.com/UIUC-iSchool-DataViz/is445_data/main/building_inventory.csv\"}, \"mark\": {\"type\": \"circle\", \"filled\": true, \"size\": 100}, \"encoding\": {\"color\": {\"field\": \"Agency Name\", \"scale\": {\"scheme\": \"category10\"}, \"type\": \"nominal\"}, \"tooltip\": [{\"field\": \"Building Name\", \"title\": \"Building Name\", \"type\": \"nominal\"}, {\"field\": \"Year Constructed\", \"title\": \"Year Constructed\", \"type\": \"temporal\"}, {\"field\": \"Congress Dist\", \"title\": \"Congressional District\", \"type\": \"ordinal\"}], \"x\": {\"field\": \"Year Acquired\", \"title\": \"Year Acquired\", \"type\": \"temporal\"}, \"y\": {\"field\": \"Square Footage\", \"title\": \"Square Footage\", \"type\": \"quantitative\"}}, \"height\": 400, \"width\": 300, \"$schema\": \"https://vega.github.io/schema/vega-lite/v5.15.1.json\"}, {\"mode\": \"vega-lite\"});\n",
       "</script>"
      ],
      "text/plain": [
       "alt.Chart(...)"
      ]
     },
     "execution_count": 435,
     "metadata": {},
     "output_type": "execute_result"
    }
   ],
   "source": [
    "chart2"
   ]
  },
  {
   "cell_type": "code",
   "execution_count": 436,
   "id": "0c9f0655",
   "metadata": {},
   "outputs": [],
   "source": [
    "chart2.save(myJekyllDir+'chart212.json')"
   ]
  },
  {
   "cell_type": "markdown",
   "id": "5d2a6c10",
   "metadata": {},
   "source": [
    "```java\n",
    "var vis_transform = {\n",
    "  // 1. data\n",
    "  \"data\": {\"url\": \"https://raw.githubusercontent.com/UIUC-iSchool-DataViz/is445_data/main/building_inventory.csv\"},\n",
    "  \"mark\": \"bar\",\n",
    "  \"encoding\": {\n",
    "    \"x\": {\n",
    "      \"field\": \"Total Floors\",\n",
    "      \"type\": \"quantitative\"\n",
    "    },\n",
    "    \"y\": {\"aggregate\": \"count\"}\n",
    "  }\n",
    "  \n",
    "};\n",
    "\n",
    "var v = vegaEmbed('#vis2',vis_transform);\n",
    "```"
   ]
  },
  {
   "cell_type": "code",
   "execution_count": 437,
   "id": "04840c8c",
   "metadata": {},
   "outputs": [],
   "source": [
    "chart3 = alt.Chart.from_dict({\n",
    "    \"data\": {\"url\": \"https://raw.githubusercontent.com/UIUC-iSchool-DataViz/is445_data/main/building_inventory.csv\"},\n",
    "    \"mark\": \"bar\",\n",
    "    \"encoding\": {\n",
    "        \"x\": {\"field\": \"Total Floors\", \"type\": \"quantitative\"},\n",
    "        \"y\": {\"aggregate\": \"count\"},\n",
    "        \"color\": {\"field\": \"Agency Name\", \"type\": \"nominal\", \"scale\": {\"scheme\": \"category10\"}},\n",
    "        \"tooltip\": [\n",
    "            {\"field\": \"Total Floors\", \"type\": \"quantitative\", \"title\": \"Total Floors\"},\n",
    "            {\"field\": \"Agency Name\", \"type\": \"nominal\", \"title\": \"Agency Name\"},\n",
    "            {\"aggregate\": \"count\", \"title\": \"Count\"}\n",
    "        ],\n",
    "    },\n",
    "    \"title\": \"Number of Buildings by Total Floors and Agency\"\n",
    "}).properties(width=300,height=300)\n"
   ]
  },
  {
   "cell_type": "code",
   "execution_count": 438,
   "id": "02359fdb",
   "metadata": {},
   "outputs": [
    {
     "data": {
      "text/html": [
       "\n",
       "<style>\n",
       "  #altair-viz-5258bde9e4e54169a4b2dcf4c6fac5dc.vega-embed {\n",
       "    width: 100%;\n",
       "    display: flex;\n",
       "  }\n",
       "\n",
       "  #altair-viz-5258bde9e4e54169a4b2dcf4c6fac5dc.vega-embed details,\n",
       "  #altair-viz-5258bde9e4e54169a4b2dcf4c6fac5dc.vega-embed details summary {\n",
       "    position: relative;\n",
       "  }\n",
       "</style>\n",
       "<div id=\"altair-viz-5258bde9e4e54169a4b2dcf4c6fac5dc\"></div>\n",
       "<script type=\"text/javascript\">\n",
       "  var VEGA_DEBUG = (typeof VEGA_DEBUG == \"undefined\") ? {} : VEGA_DEBUG;\n",
       "  (function(spec, embedOpt){\n",
       "    let outputDiv = document.currentScript.previousElementSibling;\n",
       "    if (outputDiv.id !== \"altair-viz-5258bde9e4e54169a4b2dcf4c6fac5dc\") {\n",
       "      outputDiv = document.getElementById(\"altair-viz-5258bde9e4e54169a4b2dcf4c6fac5dc\");\n",
       "    }\n",
       "    const paths = {\n",
       "      \"vega\": \"https://cdn.jsdelivr.net/npm/vega@5?noext\",\n",
       "      \"vega-lib\": \"https://cdn.jsdelivr.net/npm/vega-lib?noext\",\n",
       "      \"vega-lite\": \"https://cdn.jsdelivr.net/npm/vega-lite@5.15.1?noext\",\n",
       "      \"vega-embed\": \"https://cdn.jsdelivr.net/npm/vega-embed@6?noext\",\n",
       "    };\n",
       "\n",
       "    function maybeLoadScript(lib, version) {\n",
       "      var key = `${lib.replace(\"-\", \"\")}_version`;\n",
       "      return (VEGA_DEBUG[key] == version) ?\n",
       "        Promise.resolve(paths[lib]) :\n",
       "        new Promise(function(resolve, reject) {\n",
       "          var s = document.createElement('script');\n",
       "          document.getElementsByTagName(\"head\")[0].appendChild(s);\n",
       "          s.async = true;\n",
       "          s.onload = () => {\n",
       "            VEGA_DEBUG[key] = version;\n",
       "            return resolve(paths[lib]);\n",
       "          };\n",
       "          s.onerror = () => reject(`Error loading script: ${paths[lib]}`);\n",
       "          s.src = paths[lib];\n",
       "        });\n",
       "    }\n",
       "\n",
       "    function showError(err) {\n",
       "      outputDiv.innerHTML = `<div class=\"error\" style=\"color:red;\">${err}</div>`;\n",
       "      throw err;\n",
       "    }\n",
       "\n",
       "    function displayChart(vegaEmbed) {\n",
       "      vegaEmbed(outputDiv, spec, embedOpt)\n",
       "        .catch(err => showError(`Javascript Error: ${err.message}<br>This usually means there's a typo in your chart specification. See the javascript console for the full traceback.`));\n",
       "    }\n",
       "\n",
       "    if(typeof define === \"function\" && define.amd) {\n",
       "      requirejs.config({paths});\n",
       "      require([\"vega-embed\"], displayChart, err => showError(`Error loading script: ${err.message}`));\n",
       "    } else {\n",
       "      maybeLoadScript(\"vega\", \"5\")\n",
       "        .then(() => maybeLoadScript(\"vega-lite\", \"5.15.1\"))\n",
       "        .then(() => maybeLoadScript(\"vega-embed\", \"6\"))\n",
       "        .catch(showError)\n",
       "        .then(() => displayChart(vegaEmbed));\n",
       "    }\n",
       "  })({\"config\": {\"view\": {\"continuousWidth\": 300, \"continuousHeight\": 300}}, \"data\": {\"url\": \"https://raw.githubusercontent.com/UIUC-iSchool-DataViz/is445_data/main/building_inventory.csv\"}, \"mark\": \"bar\", \"encoding\": {\"color\": {\"field\": \"Agency Name\", \"scale\": {\"scheme\": \"category10\"}, \"type\": \"nominal\"}, \"tooltip\": [{\"field\": \"Total Floors\", \"title\": \"Total Floors\", \"type\": \"quantitative\"}, {\"field\": \"Agency Name\", \"title\": \"Agency Name\", \"type\": \"nominal\"}, {\"aggregate\": \"count\", \"title\": \"Count\"}], \"x\": {\"field\": \"Total Floors\", \"type\": \"quantitative\"}, \"y\": {\"aggregate\": \"count\"}}, \"height\": 300, \"title\": \"Number of Buildings by Total Floors and Agency\", \"width\": 300, \"$schema\": \"https://vega.github.io/schema/vega-lite/v5.15.1.json\"}, {\"mode\": \"vega-lite\"});\n",
       "</script>"
      ],
      "text/plain": [
       "alt.Chart(...)"
      ]
     },
     "execution_count": 438,
     "metadata": {},
     "output_type": "execute_result"
    }
   ],
   "source": [
    "chart3"
   ]
  },
  {
   "cell_type": "code",
   "execution_count": 439,
   "id": "0ed6a641",
   "metadata": {},
   "outputs": [],
   "source": [
    "chart = alt.HConcatChart(hconcat=[chart2,chart3])"
   ]
  },
  {
   "cell_type": "code",
   "execution_count": 440,
   "id": "62bdf133",
   "metadata": {},
   "outputs": [
    {
     "data": {
      "text/html": [
       "\n",
       "<style>\n",
       "  #altair-viz-326cba95a0e14a708f63f0d5f6d42f21.vega-embed {\n",
       "    width: 100%;\n",
       "    display: flex;\n",
       "  }\n",
       "\n",
       "  #altair-viz-326cba95a0e14a708f63f0d5f6d42f21.vega-embed details,\n",
       "  #altair-viz-326cba95a0e14a708f63f0d5f6d42f21.vega-embed details summary {\n",
       "    position: relative;\n",
       "  }\n",
       "</style>\n",
       "<div id=\"altair-viz-326cba95a0e14a708f63f0d5f6d42f21\"></div>\n",
       "<script type=\"text/javascript\">\n",
       "  var VEGA_DEBUG = (typeof VEGA_DEBUG == \"undefined\") ? {} : VEGA_DEBUG;\n",
       "  (function(spec, embedOpt){\n",
       "    let outputDiv = document.currentScript.previousElementSibling;\n",
       "    if (outputDiv.id !== \"altair-viz-326cba95a0e14a708f63f0d5f6d42f21\") {\n",
       "      outputDiv = document.getElementById(\"altair-viz-326cba95a0e14a708f63f0d5f6d42f21\");\n",
       "    }\n",
       "    const paths = {\n",
       "      \"vega\": \"https://cdn.jsdelivr.net/npm/vega@5?noext\",\n",
       "      \"vega-lib\": \"https://cdn.jsdelivr.net/npm/vega-lib?noext\",\n",
       "      \"vega-lite\": \"https://cdn.jsdelivr.net/npm/vega-lite@5.15.1?noext\",\n",
       "      \"vega-embed\": \"https://cdn.jsdelivr.net/npm/vega-embed@6?noext\",\n",
       "    };\n",
       "\n",
       "    function maybeLoadScript(lib, version) {\n",
       "      var key = `${lib.replace(\"-\", \"\")}_version`;\n",
       "      return (VEGA_DEBUG[key] == version) ?\n",
       "        Promise.resolve(paths[lib]) :\n",
       "        new Promise(function(resolve, reject) {\n",
       "          var s = document.createElement('script');\n",
       "          document.getElementsByTagName(\"head\")[0].appendChild(s);\n",
       "          s.async = true;\n",
       "          s.onload = () => {\n",
       "            VEGA_DEBUG[key] = version;\n",
       "            return resolve(paths[lib]);\n",
       "          };\n",
       "          s.onerror = () => reject(`Error loading script: ${paths[lib]}`);\n",
       "          s.src = paths[lib];\n",
       "        });\n",
       "    }\n",
       "\n",
       "    function showError(err) {\n",
       "      outputDiv.innerHTML = `<div class=\"error\" style=\"color:red;\">${err}</div>`;\n",
       "      throw err;\n",
       "    }\n",
       "\n",
       "    function displayChart(vegaEmbed) {\n",
       "      vegaEmbed(outputDiv, spec, embedOpt)\n",
       "        .catch(err => showError(`Javascript Error: ${err.message}<br>This usually means there's a typo in your chart specification. See the javascript console for the full traceback.`));\n",
       "    }\n",
       "\n",
       "    if(typeof define === \"function\" && define.amd) {\n",
       "      requirejs.config({paths});\n",
       "      require([\"vega-embed\"], displayChart, err => showError(`Error loading script: ${err.message}`));\n",
       "    } else {\n",
       "      maybeLoadScript(\"vega\", \"5\")\n",
       "        .then(() => maybeLoadScript(\"vega-lite\", \"5.15.1\"))\n",
       "        .then(() => maybeLoadScript(\"vega-embed\", \"6\"))\n",
       "        .catch(showError)\n",
       "        .then(() => displayChart(vegaEmbed));\n",
       "    }\n",
       "  })({\"config\": {\"view\": {\"continuousWidth\": 300, \"continuousHeight\": 300}}, \"hconcat\": [{\"data\": {\"url\": \"https://raw.githubusercontent.com/UIUC-iSchool-DataViz/is445_data/main/building_inventory.csv\"}, \"mark\": {\"type\": \"circle\", \"filled\": true, \"size\": 100}, \"encoding\": {\"color\": {\"field\": \"Agency Name\", \"scale\": {\"scheme\": \"category10\"}, \"type\": \"nominal\"}, \"tooltip\": [{\"field\": \"Building Name\", \"title\": \"Building Name\", \"type\": \"nominal\"}, {\"field\": \"Year Constructed\", \"title\": \"Year Constructed\", \"type\": \"temporal\"}, {\"field\": \"Congress Dist\", \"title\": \"Congressional District\", \"type\": \"ordinal\"}], \"x\": {\"field\": \"Year Acquired\", \"title\": \"Year Acquired\", \"type\": \"temporal\"}, \"y\": {\"field\": \"Square Footage\", \"title\": \"Square Footage\", \"type\": \"quantitative\"}}, \"height\": 400, \"width\": 300}, {\"data\": {\"url\": \"https://raw.githubusercontent.com/UIUC-iSchool-DataViz/is445_data/main/building_inventory.csv\"}, \"mark\": \"bar\", \"encoding\": {\"color\": {\"field\": \"Agency Name\", \"scale\": {\"scheme\": \"category10\"}, \"type\": \"nominal\"}, \"tooltip\": [{\"field\": \"Total Floors\", \"title\": \"Total Floors\", \"type\": \"quantitative\"}, {\"field\": \"Agency Name\", \"title\": \"Agency Name\", \"type\": \"nominal\"}, {\"aggregate\": \"count\", \"title\": \"Count\"}], \"x\": {\"field\": \"Total Floors\", \"type\": \"quantitative\"}, \"y\": {\"aggregate\": \"count\"}}, \"height\": 300, \"title\": \"Number of Buildings by Total Floors and Agency\", \"width\": 300}], \"$schema\": \"https://vega.github.io/schema/vega-lite/v5.15.1.json\"}, {\"mode\": \"vega-lite\"});\n",
       "</script>"
      ],
      "text/plain": [
       "alt.HConcatChart(...)"
      ]
     },
     "execution_count": 440,
     "metadata": {},
     "output_type": "execute_result"
    }
   ],
   "source": [
    "chart"
   ]
  },
  {
   "cell_type": "code",
   "execution_count": 441,
   "id": "e9e38da2",
   "metadata": {},
   "outputs": [],
   "source": [
    "chart.save(myJekyllDir+'first_dashboard.json')"
   ]
  },
  {
   "cell_type": "markdown",
   "id": "24ed823e",
   "metadata": {},
   "source": [
    "## Interacivity "
   ]
  },
  {
   "cell_type": "code",
   "execution_count": 442,
   "id": "e9f47b6b",
   "metadata": {},
   "outputs": [],
   "source": [
    "brush = alt.selection_interval(encodings=['x','y'])"
   ]
  },
  {
   "cell_type": "code",
   "execution_count": 443,
   "id": "4ee9c5c1",
   "metadata": {},
   "outputs": [
    {
     "name": "stderr",
     "output_type": "stream",
     "text": [
      "/Users/sanjana_pai/opt/anaconda3/lib/python3.9/site-packages/altair/utils/deprecation.py:65: AltairDeprecationWarning: 'add_selection' is deprecated. Use 'add_params' instead.\n",
      "  warnings.warn(message, AltairDeprecationWarning, stacklevel=1)\n"
     ]
    }
   ],
   "source": [
    "chart2 = alt.Chart.from_dict({\n",
    "    \"data\": {\"url\":\"https://raw.githubusercontent.com/UIUC-iSchool-DataViz/is445_data/main/building_inventory.csv\"\n",
    "},\n",
    "    # 2. mark\n",
    "    \"mark\": {\"type\": \"circle\", \"filled\": True, \"size\": 100},\n",
    "    # 3. scales/axis ==> encoding\n",
    "    \"encoding\": {\n",
    "        \"x\": {\"field\": \"Year Acquired\", \"type\": \"temporal\", \"title\": \"Year Acquired\"},\n",
    "        \"y\": {\"field\": \"Square Footage\", \"type\": \"quantitative\", \"title\": \"Square Footage\"},\n",
    "        \"color\": {\"field\": \"Agency Name\", \"type\": \"nominal\", \"scale\": {\"scheme\": \"category10\"}},\n",
    "        \"tooltip\": [\n",
    "            {\"field\": \"Building Name\", \"type\": \"nominal\", \"title\": \"Building Name\"},\n",
    "            {\"field\": \"Year Constructed\", \"type\": \"temporal\", \"title\": \"Year Constructed\"},\n",
    "            {\"field\": \"Congress Dist\", \"type\": \"ordinal\", \"title\": \"Congressional District\"},\n",
    "        ],\n",
    "    },\n",
    "})\n",
    "chart2 = chart2.properties(width=300, height=400).add_selection(brush)"
   ]
  },
  {
   "cell_type": "code",
   "execution_count": 445,
   "id": "7d0793c6",
   "metadata": {},
   "outputs": [],
   "source": [
    "chart3 = alt.Chart.from_dict({\n",
    "    \"data\": {\"url\": \"https://raw.githubusercontent.com/UIUC-iSchool-DataViz/is445_data/main/building_inventory.csv\"},\n",
    "    \"mark\": \"bar\",\n",
    "    \"encoding\": {\n",
    "        \"x\": {\"field\": \"Total Floors\", \"type\": \"quantitative\"},\n",
    "        \"y\": {\"aggregate\": \"count\"},\n",
    "        \"color\": {\"field\": \"Agency Name\", \"type\": \"nominal\", \"scale\": {\"scheme\": \"category10\"}},\n",
    "        \"tooltip\": [\n",
    "            {\"field\": \"Total Floors\", \"type\": \"quantitative\", \"title\": \"Total Floors\"},\n",
    "            {\"field\": \"Agency Name\", \"type\": \"nominal\", \"title\": \"Agency Name\"},\n",
    "            {\"aggregate\": \"count\", \"title\": \"Count\"}\n",
    "        ],\n",
    "    },\n",
    "    \"title\": \"Number of Buildings by Total Floors and Agency\"\n",
    "})\n",
    "chart3= chart3.properties(width=300,height=300).transform_filter(brush)"
   ]
  },
  {
   "cell_type": "code",
   "execution_count": 446,
   "id": "f2c91872",
   "metadata": {},
   "outputs": [],
   "source": [
    "chart = chart2 | chart3"
   ]
  },
  {
   "cell_type": "code",
   "execution_count": 447,
   "id": "fd1b70f7",
   "metadata": {},
   "outputs": [
    {
     "data": {
      "text/html": [
       "\n",
       "<style>\n",
       "  #altair-viz-3e513f6eb4744ce29bf8dcae25e0c387.vega-embed {\n",
       "    width: 100%;\n",
       "    display: flex;\n",
       "  }\n",
       "\n",
       "  #altair-viz-3e513f6eb4744ce29bf8dcae25e0c387.vega-embed details,\n",
       "  #altair-viz-3e513f6eb4744ce29bf8dcae25e0c387.vega-embed details summary {\n",
       "    position: relative;\n",
       "  }\n",
       "</style>\n",
       "<div id=\"altair-viz-3e513f6eb4744ce29bf8dcae25e0c387\"></div>\n",
       "<script type=\"text/javascript\">\n",
       "  var VEGA_DEBUG = (typeof VEGA_DEBUG == \"undefined\") ? {} : VEGA_DEBUG;\n",
       "  (function(spec, embedOpt){\n",
       "    let outputDiv = document.currentScript.previousElementSibling;\n",
       "    if (outputDiv.id !== \"altair-viz-3e513f6eb4744ce29bf8dcae25e0c387\") {\n",
       "      outputDiv = document.getElementById(\"altair-viz-3e513f6eb4744ce29bf8dcae25e0c387\");\n",
       "    }\n",
       "    const paths = {\n",
       "      \"vega\": \"https://cdn.jsdelivr.net/npm/vega@5?noext\",\n",
       "      \"vega-lib\": \"https://cdn.jsdelivr.net/npm/vega-lib?noext\",\n",
       "      \"vega-lite\": \"https://cdn.jsdelivr.net/npm/vega-lite@5.15.1?noext\",\n",
       "      \"vega-embed\": \"https://cdn.jsdelivr.net/npm/vega-embed@6?noext\",\n",
       "    };\n",
       "\n",
       "    function maybeLoadScript(lib, version) {\n",
       "      var key = `${lib.replace(\"-\", \"\")}_version`;\n",
       "      return (VEGA_DEBUG[key] == version) ?\n",
       "        Promise.resolve(paths[lib]) :\n",
       "        new Promise(function(resolve, reject) {\n",
       "          var s = document.createElement('script');\n",
       "          document.getElementsByTagName(\"head\")[0].appendChild(s);\n",
       "          s.async = true;\n",
       "          s.onload = () => {\n",
       "            VEGA_DEBUG[key] = version;\n",
       "            return resolve(paths[lib]);\n",
       "          };\n",
       "          s.onerror = () => reject(`Error loading script: ${paths[lib]}`);\n",
       "          s.src = paths[lib];\n",
       "        });\n",
       "    }\n",
       "\n",
       "    function showError(err) {\n",
       "      outputDiv.innerHTML = `<div class=\"error\" style=\"color:red;\">${err}</div>`;\n",
       "      throw err;\n",
       "    }\n",
       "\n",
       "    function displayChart(vegaEmbed) {\n",
       "      vegaEmbed(outputDiv, spec, embedOpt)\n",
       "        .catch(err => showError(`Javascript Error: ${err.message}<br>This usually means there's a typo in your chart specification. See the javascript console for the full traceback.`));\n",
       "    }\n",
       "\n",
       "    if(typeof define === \"function\" && define.amd) {\n",
       "      requirejs.config({paths});\n",
       "      require([\"vega-embed\"], displayChart, err => showError(`Error loading script: ${err.message}`));\n",
       "    } else {\n",
       "      maybeLoadScript(\"vega\", \"5\")\n",
       "        .then(() => maybeLoadScript(\"vega-lite\", \"5.15.1\"))\n",
       "        .then(() => maybeLoadScript(\"vega-embed\", \"6\"))\n",
       "        .catch(showError)\n",
       "        .then(() => displayChart(vegaEmbed));\n",
       "    }\n",
       "  })({\"config\": {\"view\": {\"continuousWidth\": 300, \"continuousHeight\": 300}}, \"hconcat\": [{\"data\": {\"url\": \"https://raw.githubusercontent.com/UIUC-iSchool-DataViz/is445_data/main/building_inventory.csv\"}, \"mark\": {\"type\": \"circle\", \"filled\": true, \"size\": 100}, \"encoding\": {\"color\": {\"field\": \"Agency Name\", \"scale\": {\"scheme\": \"category10\"}, \"type\": \"nominal\"}, \"tooltip\": [{\"field\": \"Building Name\", \"title\": \"Building Name\", \"type\": \"nominal\"}, {\"field\": \"Year Constructed\", \"title\": \"Year Constructed\", \"type\": \"temporal\"}, {\"field\": \"Congress Dist\", \"title\": \"Congressional District\", \"type\": \"ordinal\"}], \"x\": {\"field\": \"Year Acquired\", \"title\": \"Year Acquired\", \"type\": \"temporal\"}, \"y\": {\"field\": \"Square Footage\", \"title\": \"Square Footage\", \"type\": \"quantitative\"}}, \"height\": 400, \"name\": \"view_31\", \"width\": 300}, {\"data\": {\"url\": \"https://raw.githubusercontent.com/UIUC-iSchool-DataViz/is445_data/main/building_inventory.csv\"}, \"mark\": \"bar\", \"encoding\": {\"color\": {\"field\": \"Agency Name\", \"scale\": {\"scheme\": \"category10\"}, \"type\": \"nominal\"}, \"tooltip\": [{\"field\": \"Total Floors\", \"title\": \"Total Floors\", \"type\": \"quantitative\"}, {\"field\": \"Agency Name\", \"title\": \"Agency Name\", \"type\": \"nominal\"}, {\"aggregate\": \"count\", \"title\": \"Count\"}], \"x\": {\"field\": \"Total Floors\", \"type\": \"quantitative\"}, \"y\": {\"aggregate\": \"count\"}}, \"height\": 300, \"title\": \"Number of Buildings by Total Floors and Agency\", \"transform\": [{\"filter\": {\"param\": \"param_24\"}}], \"width\": 300}], \"params\": [{\"name\": \"param_24\", \"select\": {\"type\": \"interval\", \"encodings\": [\"x\", \"y\"]}, \"views\": [\"view_31\"]}], \"$schema\": \"https://vega.github.io/schema/vega-lite/v5.15.1.json\"}, {\"mode\": \"vega-lite\"});\n",
       "</script>"
      ],
      "text/plain": [
       "alt.HConcatChart(...)"
      ]
     },
     "execution_count": 447,
     "metadata": {},
     "output_type": "execute_result"
    }
   ],
   "source": [
    "chart"
   ]
  },
  {
   "cell_type": "code",
   "execution_count": 448,
   "id": "f5deb522",
   "metadata": {},
   "outputs": [],
   "source": [
    "chart.save(myJekyllDir+'interactive_plot.json')"
   ]
  },
  {
   "cell_type": "markdown",
   "id": "d4f3f3a1",
   "metadata": {},
   "source": [
    "## Use Altair to make the chart"
   ]
  },
  {
   "cell_type": "code",
   "execution_count": 449,
   "id": "812b22d7",
   "metadata": {},
   "outputs": [],
   "source": [
    "data_url=\"https://raw.githubusercontent.com/UIUC-iSchool-DataViz/is445_data/main/building_inventory.csv\""
   ]
  },
  {
   "cell_type": "code",
   "execution_count": 450,
   "id": "efa85310",
   "metadata": {},
   "outputs": [],
   "source": [
    "altair_chart1 = alt.Chart(data_url).mark_point().encode(\n",
    "    x='Year Acquired:T',\n",
    "    y='Square Footage:Q',\n",
    "    color = alt.Color('Agency Name:N',scale=alt.Scale(scheme='viridis')))"
   ]
  },
  {
   "cell_type": "code",
   "execution_count": 451,
   "id": "9024fa0a",
   "metadata": {},
   "outputs": [
    {
     "data": {
      "text/html": [
       "\n",
       "<style>\n",
       "  #altair-viz-7d813b5b5b34475c9515bb59c77a0c0b.vega-embed {\n",
       "    width: 100%;\n",
       "    display: flex;\n",
       "  }\n",
       "\n",
       "  #altair-viz-7d813b5b5b34475c9515bb59c77a0c0b.vega-embed details,\n",
       "  #altair-viz-7d813b5b5b34475c9515bb59c77a0c0b.vega-embed details summary {\n",
       "    position: relative;\n",
       "  }\n",
       "</style>\n",
       "<div id=\"altair-viz-7d813b5b5b34475c9515bb59c77a0c0b\"></div>\n",
       "<script type=\"text/javascript\">\n",
       "  var VEGA_DEBUG = (typeof VEGA_DEBUG == \"undefined\") ? {} : VEGA_DEBUG;\n",
       "  (function(spec, embedOpt){\n",
       "    let outputDiv = document.currentScript.previousElementSibling;\n",
       "    if (outputDiv.id !== \"altair-viz-7d813b5b5b34475c9515bb59c77a0c0b\") {\n",
       "      outputDiv = document.getElementById(\"altair-viz-7d813b5b5b34475c9515bb59c77a0c0b\");\n",
       "    }\n",
       "    const paths = {\n",
       "      \"vega\": \"https://cdn.jsdelivr.net/npm/vega@5?noext\",\n",
       "      \"vega-lib\": \"https://cdn.jsdelivr.net/npm/vega-lib?noext\",\n",
       "      \"vega-lite\": \"https://cdn.jsdelivr.net/npm/vega-lite@5.15.1?noext\",\n",
       "      \"vega-embed\": \"https://cdn.jsdelivr.net/npm/vega-embed@6?noext\",\n",
       "    };\n",
       "\n",
       "    function maybeLoadScript(lib, version) {\n",
       "      var key = `${lib.replace(\"-\", \"\")}_version`;\n",
       "      return (VEGA_DEBUG[key] == version) ?\n",
       "        Promise.resolve(paths[lib]) :\n",
       "        new Promise(function(resolve, reject) {\n",
       "          var s = document.createElement('script');\n",
       "          document.getElementsByTagName(\"head\")[0].appendChild(s);\n",
       "          s.async = true;\n",
       "          s.onload = () => {\n",
       "            VEGA_DEBUG[key] = version;\n",
       "            return resolve(paths[lib]);\n",
       "          };\n",
       "          s.onerror = () => reject(`Error loading script: ${paths[lib]}`);\n",
       "          s.src = paths[lib];\n",
       "        });\n",
       "    }\n",
       "\n",
       "    function showError(err) {\n",
       "      outputDiv.innerHTML = `<div class=\"error\" style=\"color:red;\">${err}</div>`;\n",
       "      throw err;\n",
       "    }\n",
       "\n",
       "    function displayChart(vegaEmbed) {\n",
       "      vegaEmbed(outputDiv, spec, embedOpt)\n",
       "        .catch(err => showError(`Javascript Error: ${err.message}<br>This usually means there's a typo in your chart specification. See the javascript console for the full traceback.`));\n",
       "    }\n",
       "\n",
       "    if(typeof define === \"function\" && define.amd) {\n",
       "      requirejs.config({paths});\n",
       "      require([\"vega-embed\"], displayChart, err => showError(`Error loading script: ${err.message}`));\n",
       "    } else {\n",
       "      maybeLoadScript(\"vega\", \"5\")\n",
       "        .then(() => maybeLoadScript(\"vega-lite\", \"5.15.1\"))\n",
       "        .then(() => maybeLoadScript(\"vega-embed\", \"6\"))\n",
       "        .catch(showError)\n",
       "        .then(() => displayChart(vegaEmbed));\n",
       "    }\n",
       "  })({\"config\": {\"view\": {\"continuousWidth\": 300, \"continuousHeight\": 300}}, \"data\": {\"url\": \"https://raw.githubusercontent.com/UIUC-iSchool-DataViz/is445_data/main/building_inventory.csv\"}, \"mark\": {\"type\": \"point\"}, \"encoding\": {\"color\": {\"field\": \"Agency Name\", \"scale\": {\"scheme\": \"viridis\"}, \"type\": \"nominal\"}, \"x\": {\"field\": \"Year Acquired\", \"type\": \"temporal\"}, \"y\": {\"field\": \"Square Footage\", \"type\": \"quantitative\"}}, \"$schema\": \"https://vega.github.io/schema/vega-lite/v5.15.1.json\"}, {\"mode\": \"vega-lite\"});\n",
       "</script>"
      ],
      "text/plain": [
       "alt.Chart(...)"
      ]
     },
     "execution_count": 451,
     "metadata": {},
     "output_type": "execute_result"
    }
   ],
   "source": [
    "altair_chart1"
   ]
  },
  {
   "cell_type": "code",
   "execution_count": 452,
   "id": "49c0f233",
   "metadata": {},
   "outputs": [],
   "source": [
    "altair_chart1.save(myJekyllDir+'altair_plot.json')"
   ]
  },
  {
   "cell_type": "code",
   "execution_count": 453,
   "id": "124fdc6c",
   "metadata": {},
   "outputs": [
    {
     "data": {
      "text/html": [
       "\n",
       "<style>\n",
       "  #altair-viz-11178b7b87444c78804f4c1397b98210.vega-embed {\n",
       "    width: 100%;\n",
       "    display: flex;\n",
       "  }\n",
       "\n",
       "  #altair-viz-11178b7b87444c78804f4c1397b98210.vega-embed details,\n",
       "  #altair-viz-11178b7b87444c78804f4c1397b98210.vega-embed details summary {\n",
       "    position: relative;\n",
       "  }\n",
       "</style>\n",
       "<div id=\"altair-viz-11178b7b87444c78804f4c1397b98210\"></div>\n",
       "<script type=\"text/javascript\">\n",
       "  var VEGA_DEBUG = (typeof VEGA_DEBUG == \"undefined\") ? {} : VEGA_DEBUG;\n",
       "  (function(spec, embedOpt){\n",
       "    let outputDiv = document.currentScript.previousElementSibling;\n",
       "    if (outputDiv.id !== \"altair-viz-11178b7b87444c78804f4c1397b98210\") {\n",
       "      outputDiv = document.getElementById(\"altair-viz-11178b7b87444c78804f4c1397b98210\");\n",
       "    }\n",
       "    const paths = {\n",
       "      \"vega\": \"https://cdn.jsdelivr.net/npm/vega@5?noext\",\n",
       "      \"vega-lib\": \"https://cdn.jsdelivr.net/npm/vega-lib?noext\",\n",
       "      \"vega-lite\": \"https://cdn.jsdelivr.net/npm/vega-lite@5.15.1?noext\",\n",
       "      \"vega-embed\": \"https://cdn.jsdelivr.net/npm/vega-embed@6?noext\",\n",
       "    };\n",
       "\n",
       "    function maybeLoadScript(lib, version) {\n",
       "      var key = `${lib.replace(\"-\", \"\")}_version`;\n",
       "      return (VEGA_DEBUG[key] == version) ?\n",
       "        Promise.resolve(paths[lib]) :\n",
       "        new Promise(function(resolve, reject) {\n",
       "          var s = document.createElement('script');\n",
       "          document.getElementsByTagName(\"head\")[0].appendChild(s);\n",
       "          s.async = true;\n",
       "          s.onload = () => {\n",
       "            VEGA_DEBUG[key] = version;\n",
       "            return resolve(paths[lib]);\n",
       "          };\n",
       "          s.onerror = () => reject(`Error loading script: ${paths[lib]}`);\n",
       "          s.src = paths[lib];\n",
       "        });\n",
       "    }\n",
       "\n",
       "    function showError(err) {\n",
       "      outputDiv.innerHTML = `<div class=\"error\" style=\"color:red;\">${err}</div>`;\n",
       "      throw err;\n",
       "    }\n",
       "\n",
       "    function displayChart(vegaEmbed) {\n",
       "      vegaEmbed(outputDiv, spec, embedOpt)\n",
       "        .catch(err => showError(`Javascript Error: ${err.message}<br>This usually means there's a typo in your chart specification. See the javascript console for the full traceback.`));\n",
       "    }\n",
       "\n",
       "    if(typeof define === \"function\" && define.amd) {\n",
       "      requirejs.config({paths});\n",
       "      require([\"vega-embed\"], displayChart, err => showError(`Error loading script: ${err.message}`));\n",
       "    } else {\n",
       "      maybeLoadScript(\"vega\", \"5\")\n",
       "        .then(() => maybeLoadScript(\"vega-lite\", \"5.15.1\"))\n",
       "        .then(() => maybeLoadScript(\"vega-embed\", \"6\"))\n",
       "        .catch(showError)\n",
       "        .then(() => displayChart(vegaEmbed));\n",
       "    }\n",
       "  })({\"config\": {\"view\": {\"continuousWidth\": 300, \"continuousHeight\": 300}}, \"data\": {\"url\": \"https://raw.githubusercontent.com/UIUC-iSchool-DataViz/is445_data/main/building_inventory.csv\"}, \"mark\": {\"type\": \"bar\"}, \"encoding\": {\"color\": {\"field\": \"Agency Name\", \"scale\": {\"scheme\": \"viridis\"}, \"type\": \"nominal\"}, \"x\": {\"field\": \"Total Floors\", \"type\": \"quantitative\"}, \"y\": {\"aggregate\": \"count\", \"type\": \"quantitative\"}}, \"height\": 300, \"$schema\": \"https://vega.github.io/schema/vega-lite/v5.15.1.json\"}, {\"mode\": \"vega-lite\"});\n",
       "</script>"
      ],
      "text/plain": [
       "alt.Chart(...)"
      ]
     },
     "execution_count": 453,
     "metadata": {},
     "output_type": "execute_result"
    }
   ],
   "source": [
    "alt2 = alt.Chart(data_url).mark_bar().encode(\n",
    "    alt.X(\"Total Floors:Q\"),\n",
    "    alt.Y(\"count()\"),\n",
    "    alt.Color(\"Agency Name:N\",scale=alt.Scale(scheme='viridis'))\n",
    ").properties(height=300)\n",
    "alt2"
   ]
  },
  {
   "cell_type": "code",
   "execution_count": 454,
   "id": "556652b8",
   "metadata": {},
   "outputs": [],
   "source": [
    "db = altair_chart1 | alt2"
   ]
  },
  {
   "cell_type": "code",
   "execution_count": 455,
   "id": "dcdc7650",
   "metadata": {},
   "outputs": [
    {
     "data": {
      "text/html": [
       "\n",
       "<style>\n",
       "  #altair-viz-532620866bcc4d66bfa4adccec5f1072.vega-embed {\n",
       "    width: 100%;\n",
       "    display: flex;\n",
       "  }\n",
       "\n",
       "  #altair-viz-532620866bcc4d66bfa4adccec5f1072.vega-embed details,\n",
       "  #altair-viz-532620866bcc4d66bfa4adccec5f1072.vega-embed details summary {\n",
       "    position: relative;\n",
       "  }\n",
       "</style>\n",
       "<div id=\"altair-viz-532620866bcc4d66bfa4adccec5f1072\"></div>\n",
       "<script type=\"text/javascript\">\n",
       "  var VEGA_DEBUG = (typeof VEGA_DEBUG == \"undefined\") ? {} : VEGA_DEBUG;\n",
       "  (function(spec, embedOpt){\n",
       "    let outputDiv = document.currentScript.previousElementSibling;\n",
       "    if (outputDiv.id !== \"altair-viz-532620866bcc4d66bfa4adccec5f1072\") {\n",
       "      outputDiv = document.getElementById(\"altair-viz-532620866bcc4d66bfa4adccec5f1072\");\n",
       "    }\n",
       "    const paths = {\n",
       "      \"vega\": \"https://cdn.jsdelivr.net/npm/vega@5?noext\",\n",
       "      \"vega-lib\": \"https://cdn.jsdelivr.net/npm/vega-lib?noext\",\n",
       "      \"vega-lite\": \"https://cdn.jsdelivr.net/npm/vega-lite@5.15.1?noext\",\n",
       "      \"vega-embed\": \"https://cdn.jsdelivr.net/npm/vega-embed@6?noext\",\n",
       "    };\n",
       "\n",
       "    function maybeLoadScript(lib, version) {\n",
       "      var key = `${lib.replace(\"-\", \"\")}_version`;\n",
       "      return (VEGA_DEBUG[key] == version) ?\n",
       "        Promise.resolve(paths[lib]) :\n",
       "        new Promise(function(resolve, reject) {\n",
       "          var s = document.createElement('script');\n",
       "          document.getElementsByTagName(\"head\")[0].appendChild(s);\n",
       "          s.async = true;\n",
       "          s.onload = () => {\n",
       "            VEGA_DEBUG[key] = version;\n",
       "            return resolve(paths[lib]);\n",
       "          };\n",
       "          s.onerror = () => reject(`Error loading script: ${paths[lib]}`);\n",
       "          s.src = paths[lib];\n",
       "        });\n",
       "    }\n",
       "\n",
       "    function showError(err) {\n",
       "      outputDiv.innerHTML = `<div class=\"error\" style=\"color:red;\">${err}</div>`;\n",
       "      throw err;\n",
       "    }\n",
       "\n",
       "    function displayChart(vegaEmbed) {\n",
       "      vegaEmbed(outputDiv, spec, embedOpt)\n",
       "        .catch(err => showError(`Javascript Error: ${err.message}<br>This usually means there's a typo in your chart specification. See the javascript console for the full traceback.`));\n",
       "    }\n",
       "\n",
       "    if(typeof define === \"function\" && define.amd) {\n",
       "      requirejs.config({paths});\n",
       "      require([\"vega-embed\"], displayChart, err => showError(`Error loading script: ${err.message}`));\n",
       "    } else {\n",
       "      maybeLoadScript(\"vega\", \"5\")\n",
       "        .then(() => maybeLoadScript(\"vega-lite\", \"5.15.1\"))\n",
       "        .then(() => maybeLoadScript(\"vega-embed\", \"6\"))\n",
       "        .catch(showError)\n",
       "        .then(() => displayChart(vegaEmbed));\n",
       "    }\n",
       "  })({\"config\": {\"view\": {\"continuousWidth\": 300, \"continuousHeight\": 300}}, \"hconcat\": [{\"mark\": {\"type\": \"point\"}, \"encoding\": {\"color\": {\"field\": \"Agency Name\", \"scale\": {\"scheme\": \"viridis\"}, \"type\": \"nominal\"}, \"x\": {\"field\": \"Year Acquired\", \"type\": \"temporal\"}, \"y\": {\"field\": \"Square Footage\", \"type\": \"quantitative\"}}}, {\"mark\": {\"type\": \"bar\"}, \"encoding\": {\"color\": {\"field\": \"Agency Name\", \"scale\": {\"scheme\": \"viridis\"}, \"type\": \"nominal\"}, \"x\": {\"field\": \"Total Floors\", \"type\": \"quantitative\"}, \"y\": {\"aggregate\": \"count\", \"type\": \"quantitative\"}}, \"height\": 300}], \"data\": {\"url\": \"https://raw.githubusercontent.com/UIUC-iSchool-DataViz/is445_data/main/building_inventory.csv\"}, \"$schema\": \"https://vega.github.io/schema/vega-lite/v5.15.1.json\"}, {\"mode\": \"vega-lite\"});\n",
       "</script>"
      ],
      "text/plain": [
       "alt.HConcatChart(...)"
      ]
     },
     "execution_count": 455,
     "metadata": {},
     "output_type": "execute_result"
    }
   ],
   "source": [
    "db"
   ]
  },
  {
   "cell_type": "code",
   "execution_count": 456,
   "id": "5301359b",
   "metadata": {},
   "outputs": [],
   "source": [
    "brush = alt.selection_interval(encodings=['x','y'])\n",
    "\n",
    "altair_chart1 = alt.Chart(data_url).mark_point().encode(\n",
    "    x='Year Acquired:T',\n",
    "    y='Square Footage:Q',\n",
    "    color = alt.Color('Agency Name:N',scale=alt.Scale(scheme='viridis'))).add_selection(brush)\n",
    "alt2 = alt.Chart(data_url).mark_bar().encode(\n",
    "    alt.X(\"Total Floors:Q\"),\n",
    "    alt.Y(\"count()\"),\n",
    "    alt.Color(\"Agency Name:N\",scale=alt.Scale(scheme='pastel1'))\n",
    ").properties(height=300).transform_filter(brush)"
   ]
  },
  {
   "cell_type": "code",
   "execution_count": 457,
   "id": "ace23a84",
   "metadata": {},
   "outputs": [],
   "source": [
    "db2 = altair_chart1 | alt2"
   ]
  },
  {
   "cell_type": "code",
   "execution_count": 458,
   "id": "a94086ef",
   "metadata": {},
   "outputs": [
    {
     "data": {
      "text/html": [
       "\n",
       "<style>\n",
       "  #altair-viz-076e3c51b0bb4b1b83c3ce3a3a8d9fb4.vega-embed {\n",
       "    width: 100%;\n",
       "    display: flex;\n",
       "  }\n",
       "\n",
       "  #altair-viz-076e3c51b0bb4b1b83c3ce3a3a8d9fb4.vega-embed details,\n",
       "  #altair-viz-076e3c51b0bb4b1b83c3ce3a3a8d9fb4.vega-embed details summary {\n",
       "    position: relative;\n",
       "  }\n",
       "</style>\n",
       "<div id=\"altair-viz-076e3c51b0bb4b1b83c3ce3a3a8d9fb4\"></div>\n",
       "<script type=\"text/javascript\">\n",
       "  var VEGA_DEBUG = (typeof VEGA_DEBUG == \"undefined\") ? {} : VEGA_DEBUG;\n",
       "  (function(spec, embedOpt){\n",
       "    let outputDiv = document.currentScript.previousElementSibling;\n",
       "    if (outputDiv.id !== \"altair-viz-076e3c51b0bb4b1b83c3ce3a3a8d9fb4\") {\n",
       "      outputDiv = document.getElementById(\"altair-viz-076e3c51b0bb4b1b83c3ce3a3a8d9fb4\");\n",
       "    }\n",
       "    const paths = {\n",
       "      \"vega\": \"https://cdn.jsdelivr.net/npm/vega@5?noext\",\n",
       "      \"vega-lib\": \"https://cdn.jsdelivr.net/npm/vega-lib?noext\",\n",
       "      \"vega-lite\": \"https://cdn.jsdelivr.net/npm/vega-lite@5.15.1?noext\",\n",
       "      \"vega-embed\": \"https://cdn.jsdelivr.net/npm/vega-embed@6?noext\",\n",
       "    };\n",
       "\n",
       "    function maybeLoadScript(lib, version) {\n",
       "      var key = `${lib.replace(\"-\", \"\")}_version`;\n",
       "      return (VEGA_DEBUG[key] == version) ?\n",
       "        Promise.resolve(paths[lib]) :\n",
       "        new Promise(function(resolve, reject) {\n",
       "          var s = document.createElement('script');\n",
       "          document.getElementsByTagName(\"head\")[0].appendChild(s);\n",
       "          s.async = true;\n",
       "          s.onload = () => {\n",
       "            VEGA_DEBUG[key] = version;\n",
       "            return resolve(paths[lib]);\n",
       "          };\n",
       "          s.onerror = () => reject(`Error loading script: ${paths[lib]}`);\n",
       "          s.src = paths[lib];\n",
       "        });\n",
       "    }\n",
       "\n",
       "    function showError(err) {\n",
       "      outputDiv.innerHTML = `<div class=\"error\" style=\"color:red;\">${err}</div>`;\n",
       "      throw err;\n",
       "    }\n",
       "\n",
       "    function displayChart(vegaEmbed) {\n",
       "      vegaEmbed(outputDiv, spec, embedOpt)\n",
       "        .catch(err => showError(`Javascript Error: ${err.message}<br>This usually means there's a typo in your chart specification. See the javascript console for the full traceback.`));\n",
       "    }\n",
       "\n",
       "    if(typeof define === \"function\" && define.amd) {\n",
       "      requirejs.config({paths});\n",
       "      require([\"vega-embed\"], displayChart, err => showError(`Error loading script: ${err.message}`));\n",
       "    } else {\n",
       "      maybeLoadScript(\"vega\", \"5\")\n",
       "        .then(() => maybeLoadScript(\"vega-lite\", \"5.15.1\"))\n",
       "        .then(() => maybeLoadScript(\"vega-embed\", \"6\"))\n",
       "        .catch(showError)\n",
       "        .then(() => displayChart(vegaEmbed));\n",
       "    }\n",
       "  })({\"config\": {\"view\": {\"continuousWidth\": 300, \"continuousHeight\": 300}}, \"hconcat\": [{\"mark\": {\"type\": \"point\"}, \"encoding\": {\"color\": {\"field\": \"Agency Name\", \"scale\": {\"scheme\": \"viridis\"}, \"type\": \"nominal\"}, \"x\": {\"field\": \"Year Acquired\", \"type\": \"temporal\"}, \"y\": {\"field\": \"Square Footage\", \"type\": \"quantitative\"}}, \"name\": \"view_32\"}, {\"mark\": {\"type\": \"bar\"}, \"encoding\": {\"color\": {\"field\": \"Agency Name\", \"scale\": {\"scheme\": \"pastel1\"}, \"type\": \"nominal\"}, \"x\": {\"field\": \"Total Floors\", \"type\": \"quantitative\"}, \"y\": {\"aggregate\": \"count\", \"type\": \"quantitative\"}}, \"height\": 300, \"transform\": [{\"filter\": {\"param\": \"param_25\"}}]}], \"data\": {\"url\": \"https://raw.githubusercontent.com/UIUC-iSchool-DataViz/is445_data/main/building_inventory.csv\"}, \"params\": [{\"name\": \"param_25\", \"select\": {\"type\": \"interval\", \"encodings\": [\"x\", \"y\"]}, \"views\": [\"view_32\"]}], \"$schema\": \"https://vega.github.io/schema/vega-lite/v5.15.1.json\"}, {\"mode\": \"vega-lite\"});\n",
       "</script>"
      ],
      "text/plain": [
       "alt.HConcatChart(...)"
      ]
     },
     "execution_count": 458,
     "metadata": {},
     "output_type": "execute_result"
    }
   ],
   "source": [
    "db2"
   ]
  },
  {
   "cell_type": "code",
   "execution_count": 459,
   "id": "3ab18155",
   "metadata": {},
   "outputs": [],
   "source": [
    "brush = alt.selection_interval(encodings=['x','y'])\n",
    "\n",
    "altair_chart1 = alt.Chart(data_url).mark_rect().encode(\n",
    "    x='Year Acquired:T',\n",
    "    y='Square Footage:Q',\n",
    "    color = alt.Color('Agency Name:N',scale=alt.Scale(scheme='viridis'))).add_selection(brush)\n",
    "alt2 = alt.Chart(data_url).mark_bar().encode(\n",
    "    alt.X(\"Total Floors:Q\"),\n",
    "    alt.Y(\"count()\"),\n",
    "    alt.Color(\"Agency Name:N\",scale=alt.Scale(scheme='viridis'))\n",
    ").properties(height=300).transform_filter(brush)"
   ]
  },
  {
   "cell_type": "code",
   "execution_count": 460,
   "id": "3f029edd",
   "metadata": {},
   "outputs": [],
   "source": [
    "dashboard_alt = altair_chart1 | alt2"
   ]
  },
  {
   "cell_type": "code",
   "execution_count": 461,
   "id": "ebb47709",
   "metadata": {},
   "outputs": [
    {
     "data": {
      "text/html": [
       "\n",
       "<style>\n",
       "  #altair-viz-6de9933595cf4f22a1d3494fdfc9e13c.vega-embed {\n",
       "    width: 100%;\n",
       "    display: flex;\n",
       "  }\n",
       "\n",
       "  #altair-viz-6de9933595cf4f22a1d3494fdfc9e13c.vega-embed details,\n",
       "  #altair-viz-6de9933595cf4f22a1d3494fdfc9e13c.vega-embed details summary {\n",
       "    position: relative;\n",
       "  }\n",
       "</style>\n",
       "<div id=\"altair-viz-6de9933595cf4f22a1d3494fdfc9e13c\"></div>\n",
       "<script type=\"text/javascript\">\n",
       "  var VEGA_DEBUG = (typeof VEGA_DEBUG == \"undefined\") ? {} : VEGA_DEBUG;\n",
       "  (function(spec, embedOpt){\n",
       "    let outputDiv = document.currentScript.previousElementSibling;\n",
       "    if (outputDiv.id !== \"altair-viz-6de9933595cf4f22a1d3494fdfc9e13c\") {\n",
       "      outputDiv = document.getElementById(\"altair-viz-6de9933595cf4f22a1d3494fdfc9e13c\");\n",
       "    }\n",
       "    const paths = {\n",
       "      \"vega\": \"https://cdn.jsdelivr.net/npm/vega@5?noext\",\n",
       "      \"vega-lib\": \"https://cdn.jsdelivr.net/npm/vega-lib?noext\",\n",
       "      \"vega-lite\": \"https://cdn.jsdelivr.net/npm/vega-lite@5.15.1?noext\",\n",
       "      \"vega-embed\": \"https://cdn.jsdelivr.net/npm/vega-embed@6?noext\",\n",
       "    };\n",
       "\n",
       "    function maybeLoadScript(lib, version) {\n",
       "      var key = `${lib.replace(\"-\", \"\")}_version`;\n",
       "      return (VEGA_DEBUG[key] == version) ?\n",
       "        Promise.resolve(paths[lib]) :\n",
       "        new Promise(function(resolve, reject) {\n",
       "          var s = document.createElement('script');\n",
       "          document.getElementsByTagName(\"head\")[0].appendChild(s);\n",
       "          s.async = true;\n",
       "          s.onload = () => {\n",
       "            VEGA_DEBUG[key] = version;\n",
       "            return resolve(paths[lib]);\n",
       "          };\n",
       "          s.onerror = () => reject(`Error loading script: ${paths[lib]}`);\n",
       "          s.src = paths[lib];\n",
       "        });\n",
       "    }\n",
       "\n",
       "    function showError(err) {\n",
       "      outputDiv.innerHTML = `<div class=\"error\" style=\"color:red;\">${err}</div>`;\n",
       "      throw err;\n",
       "    }\n",
       "\n",
       "    function displayChart(vegaEmbed) {\n",
       "      vegaEmbed(outputDiv, spec, embedOpt)\n",
       "        .catch(err => showError(`Javascript Error: ${err.message}<br>This usually means there's a typo in your chart specification. See the javascript console for the full traceback.`));\n",
       "    }\n",
       "\n",
       "    if(typeof define === \"function\" && define.amd) {\n",
       "      requirejs.config({paths});\n",
       "      require([\"vega-embed\"], displayChart, err => showError(`Error loading script: ${err.message}`));\n",
       "    } else {\n",
       "      maybeLoadScript(\"vega\", \"5\")\n",
       "        .then(() => maybeLoadScript(\"vega-lite\", \"5.15.1\"))\n",
       "        .then(() => maybeLoadScript(\"vega-embed\", \"6\"))\n",
       "        .catch(showError)\n",
       "        .then(() => displayChart(vegaEmbed));\n",
       "    }\n",
       "  })({\"config\": {\"view\": {\"continuousWidth\": 300, \"continuousHeight\": 300}}, \"hconcat\": [{\"mark\": {\"type\": \"rect\"}, \"encoding\": {\"color\": {\"field\": \"Agency Name\", \"scale\": {\"scheme\": \"viridis\"}, \"type\": \"nominal\"}, \"x\": {\"field\": \"Year Acquired\", \"type\": \"temporal\"}, \"y\": {\"field\": \"Square Footage\", \"type\": \"quantitative\"}}, \"name\": \"view_33\"}, {\"mark\": {\"type\": \"bar\"}, \"encoding\": {\"color\": {\"field\": \"Agency Name\", \"scale\": {\"scheme\": \"viridis\"}, \"type\": \"nominal\"}, \"x\": {\"field\": \"Total Floors\", \"type\": \"quantitative\"}, \"y\": {\"aggregate\": \"count\", \"type\": \"quantitative\"}}, \"height\": 300, \"transform\": [{\"filter\": {\"param\": \"param_26\"}}]}], \"data\": {\"url\": \"https://raw.githubusercontent.com/UIUC-iSchool-DataViz/is445_data/main/building_inventory.csv\"}, \"params\": [{\"name\": \"param_26\", \"select\": {\"type\": \"interval\", \"encodings\": [\"x\", \"y\"]}, \"views\": [\"view_33\"]}], \"$schema\": \"https://vega.github.io/schema/vega-lite/v5.15.1.json\"}, {\"mode\": \"vega-lite\"});\n",
       "</script>"
      ],
      "text/plain": [
       "alt.HConcatChart(...)"
      ]
     },
     "execution_count": 461,
     "metadata": {},
     "output_type": "execute_result"
    }
   ],
   "source": [
    "dashboard_alt"
   ]
  },
  {
   "cell_type": "code",
   "execution_count": 462,
   "id": "aaf4b28f",
   "metadata": {},
   "outputs": [
    {
     "data": {
      "text/html": [
       "\n",
       "<style>\n",
       "  #altair-viz-8b6913ad32954e2aae06b0b4359b7045.vega-embed {\n",
       "    width: 100%;\n",
       "    display: flex;\n",
       "  }\n",
       "\n",
       "  #altair-viz-8b6913ad32954e2aae06b0b4359b7045.vega-embed details,\n",
       "  #altair-viz-8b6913ad32954e2aae06b0b4359b7045.vega-embed details summary {\n",
       "    position: relative;\n",
       "  }\n",
       "</style>\n",
       "<div id=\"altair-viz-8b6913ad32954e2aae06b0b4359b7045\"></div>\n",
       "<script type=\"text/javascript\">\n",
       "  var VEGA_DEBUG = (typeof VEGA_DEBUG == \"undefined\") ? {} : VEGA_DEBUG;\n",
       "  (function(spec, embedOpt){\n",
       "    let outputDiv = document.currentScript.previousElementSibling;\n",
       "    if (outputDiv.id !== \"altair-viz-8b6913ad32954e2aae06b0b4359b7045\") {\n",
       "      outputDiv = document.getElementById(\"altair-viz-8b6913ad32954e2aae06b0b4359b7045\");\n",
       "    }\n",
       "    const paths = {\n",
       "      \"vega\": \"https://cdn.jsdelivr.net/npm/vega@5?noext\",\n",
       "      \"vega-lib\": \"https://cdn.jsdelivr.net/npm/vega-lib?noext\",\n",
       "      \"vega-lite\": \"https://cdn.jsdelivr.net/npm/vega-lite@5.15.1?noext\",\n",
       "      \"vega-embed\": \"https://cdn.jsdelivr.net/npm/vega-embed@6?noext\",\n",
       "    };\n",
       "\n",
       "    function maybeLoadScript(lib, version) {\n",
       "      var key = `${lib.replace(\"-\", \"\")}_version`;\n",
       "      return (VEGA_DEBUG[key] == version) ?\n",
       "        Promise.resolve(paths[lib]) :\n",
       "        new Promise(function(resolve, reject) {\n",
       "          var s = document.createElement('script');\n",
       "          document.getElementsByTagName(\"head\")[0].appendChild(s);\n",
       "          s.async = true;\n",
       "          s.onload = () => {\n",
       "            VEGA_DEBUG[key] = version;\n",
       "            return resolve(paths[lib]);\n",
       "          };\n",
       "          s.onerror = () => reject(`Error loading script: ${paths[lib]}`);\n",
       "          s.src = paths[lib];\n",
       "        });\n",
       "    }\n",
       "\n",
       "    function showError(err) {\n",
       "      outputDiv.innerHTML = `<div class=\"error\" style=\"color:red;\">${err}</div>`;\n",
       "      throw err;\n",
       "    }\n",
       "\n",
       "    function displayChart(vegaEmbed) {\n",
       "      vegaEmbed(outputDiv, spec, embedOpt)\n",
       "        .catch(err => showError(`Javascript Error: ${err.message}<br>This usually means there's a typo in your chart specification. See the javascript console for the full traceback.`));\n",
       "    }\n",
       "\n",
       "    if(typeof define === \"function\" && define.amd) {\n",
       "      requirejs.config({paths});\n",
       "      require([\"vega-embed\"], displayChart, err => showError(`Error loading script: ${err.message}`));\n",
       "    } else {\n",
       "      maybeLoadScript(\"vega\", \"5\")\n",
       "        .then(() => maybeLoadScript(\"vega-lite\", \"5.15.1\"))\n",
       "        .then(() => maybeLoadScript(\"vega-embed\", \"6\"))\n",
       "        .catch(showError)\n",
       "        .then(() => displayChart(vegaEmbed));\n",
       "    }\n",
       "  })({\"config\": {\"view\": {\"continuousWidth\": 300, \"continuousHeight\": 300}}, \"data\": {\"name\": \"data-4418cfc3593c7dab14bf366a895ebe10\"}, \"mark\": {\"type\": \"bar\", \"color\": \"green\"}, \"encoding\": {\"x\": {\"field\": \"County\", \"sort\": \"-y\", \"type\": \"nominal\"}, \"y\": {\"field\": \"Count\", \"type\": \"quantitative\"}}, \"height\": 300, \"width\": 850, \"$schema\": \"https://vega.github.io/schema/vega-lite/v5.15.1.json\", \"datasets\": {\"data-4418cfc3593c7dab14bf366a895ebe10\": [{\"County\": \"Cook\", \"Count\": 518}, {\"County\": \"Jackson\", \"Count\": 488}, {\"County\": \"Randolph\", \"Count\": 440}, {\"County\": \"Sangamon\", \"Count\": 437}, {\"County\": \"Champaign\", \"Count\": 416}, {\"County\": \"Will\", \"Count\": 293}, {\"County\": \"LaSalle\", \"Count\": 289}, {\"County\": \"Jersey\", \"Count\": 241}, {\"County\": \"McLean\", \"Count\": 188}, {\"County\": \"Peoria\", \"Count\": 183}, {\"County\": \"Madison\", \"Count\": 180}, {\"County\": \"Jefferson\", \"Count\": 164}, {\"County\": \"Kankakee\", \"Count\": 164}, {\"County\": \"Lee\", \"Count\": 161}, {\"County\": \"Livingston\", \"Count\": 160}, {\"County\": \"Clinton\", \"Count\": 153}, {\"County\": \"Lake\", \"Count\": 142}, {\"County\": \"McHenry\", \"Count\": 133}, {\"County\": \"Fayette\", \"Count\": 133}, {\"County\": \"Johnson\", \"Count\": 132}, {\"County\": \"Logan\", \"Count\": 131}, {\"County\": \"Vermilion\", \"Count\": 128}, {\"County\": \"Perry\", \"Count\": 127}, {\"County\": \"Kane\", \"Count\": 124}, {\"County\": \"Coles\", \"Count\": 112}, {\"County\": \"Union\", \"Count\": 110}, {\"County\": \"St. Clair\", \"Count\": 109}, {\"County\": \"Ogle\", \"Count\": 107}, {\"County\": \"Cass\", \"Count\": 99}, {\"County\": \"DeKalb\", \"Count\": 99}, {\"County\": \"Henry\", \"Count\": 90}, {\"County\": \"McDonough\", \"Count\": 90}, {\"County\": \"Morgan\", \"Count\": 88}, {\"County\": \"Menard\", \"Count\": 85}, {\"County\": \"Whiteside\", \"Count\": 84}, {\"County\": \"Bureau\", \"Count\": 84}, {\"County\": \"Christian\", \"Count\": 80}, {\"County\": \"Rock Island\", \"Count\": 80}, {\"County\": \"Fulton\", \"Count\": 79}, {\"County\": \"Carroll\", \"Count\": 78}, {\"County\": \"Adams\", \"Count\": 78}, {\"County\": \"Montgomery\", \"Count\": 74}, {\"County\": \"Jo Daviess\", \"Count\": 68}, {\"County\": \"Shelby\", \"Count\": 66}, {\"County\": \"Jasper\", \"Count\": 61}, {\"County\": \"Winnebago\", \"Count\": 60}, {\"County\": \"Marion\", \"Count\": 59}, {\"County\": \"Lawrence\", \"Count\": 58}, {\"County\": \"Saline\", \"Count\": 57}, {\"County\": \"DeWitt\", \"Count\": 57}, {\"County\": \"Pope\", \"Count\": 55}, {\"County\": \"Macon\", \"Count\": 52}, {\"County\": \"Mason\", \"Count\": 49}, {\"County\": \"Massac\", \"Count\": 48}, {\"County\": \"Knox\", \"Count\": 48}, {\"County\": \"Alexander\", \"Count\": 45}, {\"County\": \"Grundy\", \"Count\": 45}, {\"County\": \"Crawford\", \"Count\": 40}, {\"County\": \"Washington\", \"Count\": 40}, {\"County\": \"Hardin\", \"Count\": 39}, {\"County\": \"Effingham\", \"Count\": 38}, {\"County\": \"DuPage\", \"Count\": 38}, {\"County\": \"Tazewell\", \"Count\": 37}, {\"County\": \"Clark\", \"Count\": 37}, {\"County\": \"Hamilton\", \"Count\": 34}, {\"County\": \"Stephenson\", \"Count\": 34}, {\"County\": \"Hancock\", \"Count\": 31}, {\"County\": \"Kendall\", \"Count\": 30}, {\"County\": \"Iroquois\", \"Count\": 30}, {\"County\": \"Macoupin\", \"Count\": 30}, {\"County\": \"Brown\", \"Count\": 29}, {\"County\": \"Schuyler\", \"Count\": 28}, {\"County\": \"Marshall\", \"Count\": 25}, {\"County\": \"Moultrie\", \"Count\": 25}, {\"County\": \"Woodford\", \"Count\": 24}, {\"County\": \"Williamson\", \"Count\": 23}, {\"County\": \"Douglas\", \"Count\": 22}, {\"County\": \"Franklin\", \"Count\": 21}, {\"County\": \"Wayne\", \"Count\": 20}, {\"County\": \"Pike\", \"Count\": 19}, {\"County\": \"Gallatin\", \"Count\": 15}, {\"County\": \"Henderson\", \"Count\": 14}, {\"County\": \"White\", \"Count\": 14}, {\"County\": \"Statewide\", \"Count\": 13}, {\"County\": \"Monroe\", \"Count\": 11}, {\"County\": \"Edgar\", \"Count\": 10}, {\"County\": \"Greene\", \"Count\": 9}, {\"County\": \"Piatt\", \"Count\": 8}, {\"County\": \"Stark\", \"Count\": 8}, {\"County\": \"Wabash\", \"Count\": 7}, {\"County\": \"Warren\", \"Count\": 7}, {\"County\": \"Richland\", \"Count\": 6}, {\"County\": \"Cumberland\", \"Count\": 6}, {\"County\": \"Clay\", \"Count\": 5}, {\"County\": \"Scott\", \"Count\": 5}, {\"County\": \"Boone\", \"Count\": 5}, {\"County\": \"Bond\", \"Count\": 4}, {\"County\": \"Ford\", \"Count\": 4}, {\"County\": \"Mercer\", \"Count\": 4}, {\"County\": \"Pulaski\", \"Count\": 4}, {\"County\": \"Calhoun\", \"Count\": 4}, {\"County\": \"Putnam\", \"Count\": 1}]}}, {\"mode\": \"vega-lite\"});\n",
       "</script>"
      ],
      "text/plain": [
       "alt.Chart(...)"
      ]
     },
     "execution_count": 462,
     "metadata": {},
     "output_type": "execute_result"
    }
   ],
   "source": [
    "df = pd.read_csv(data_url)\n",
    "\n",
    "# Create a new dataframe with aggregated counts\n",
    "count_df = df['County'].value_counts().reset_index()\n",
    "count_df.columns = ['County', 'Count']\n",
    "\n",
    "# Create the chart using the aggregated dataframe\n",
    "alt3 = alt.Chart(count_df).mark_bar(color='green').encode(\n",
    "    alt.X(\"County:N\", sort='-y'),  # Sorting based on Count in descending order\n",
    "    alt.Y(\"Count:Q\"),\n",
    ").properties(height=300,width=850)\n",
    "\n",
    "alt3"
   ]
  },
  {
   "cell_type": "markdown",
   "id": "a9485d07",
   "metadata": {},
   "source": [
    "#### Saving all my visualizations to showcase on my page"
   ]
  },
  {
   "cell_type": "code",
   "execution_count": 463,
   "id": "08dd9944",
   "metadata": {},
   "outputs": [],
   "source": [
    "alt3.save(myJekyllDir+\"alt3.json\")\n",
    "db2.save(myJekyllDir+\"dynamicdb1.json\")\n",
    "dashboard_alt.save(myJekyllDir+\"dynamicdb2.json\")"
   ]
  },
  {
   "cell_type": "code",
   "execution_count": null,
   "id": "ab0b4258",
   "metadata": {},
   "outputs": [],
   "source": []
  }
 ],
 "metadata": {
  "kernelspec": {
   "display_name": "Python 3",
   "language": "python",
   "name": "python3"
  },
  "language_info": {
   "codemirror_mode": {
    "name": "ipython",
    "version": 3
   },
   "file_extension": ".py",
   "mimetype": "text/x-python",
   "name": "python",
   "nbconvert_exporter": "python",
   "pygments_lexer": "ipython3",
   "version": "3.11.1 (v3.11.1:a7a450f84a, Dec  6 2022, 15:24:06) [Clang 13.0.0 (clang-1300.0.29.30)]"
  },
  "vscode": {
   "interpreter": {
    "hash": "aee8b7b246df8f9039afb4144a1f6fd8d2ca17a180786b69acc140d282b71a49"
   }
  }
 },
 "nbformat": 4,
 "nbformat_minor": 5
}
